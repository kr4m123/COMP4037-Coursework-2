{
 "cells": [
  {
   "cell_type": "code",
   "execution_count": 248,
   "metadata": {},
   "outputs": [],
   "source": [
    "import pandas as pd\n",
    "import plotly.express as px\n",
    "\n",
    "# set the displayed rows to 500\n",
    "pd.set_option('display.max_rows', 500)"
   ]
  },
  {
   "cell_type": "code",
   "execution_count": 249,
   "metadata": {},
   "outputs": [],
   "source": [
    "df = pd.read_csv('Results_21Mar2022.csv')"
   ]
  },
  {
   "cell_type": "code",
   "execution_count": 250,
   "metadata": {},
   "outputs": [
    {
     "data": {
      "text/html": [
       "<div>\n",
       "<style scoped>\n",
       "    .dataframe tbody tr th:only-of-type {\n",
       "        vertical-align: middle;\n",
       "    }\n",
       "\n",
       "    .dataframe tbody tr th {\n",
       "        vertical-align: top;\n",
       "    }\n",
       "\n",
       "    .dataframe thead th {\n",
       "        text-align: right;\n",
       "    }\n",
       "</style>\n",
       "<table border=\"1\" class=\"dataframe\">\n",
       "  <thead>\n",
       "    <tr style=\"text-align: right;\">\n",
       "      <th></th>\n",
       "      <th>mc_run_id</th>\n",
       "      <th>grouping</th>\n",
       "      <th>mean_ghgs</th>\n",
       "      <th>mean_land</th>\n",
       "      <th>mean_watscar</th>\n",
       "      <th>mean_eut</th>\n",
       "      <th>mean_ghgs_ch4</th>\n",
       "      <th>mean_ghgs_n2o</th>\n",
       "      <th>mean_bio</th>\n",
       "      <th>mean_watuse</th>\n",
       "      <th>...</th>\n",
       "      <th>sd_eut</th>\n",
       "      <th>sd_ghgs_ch4</th>\n",
       "      <th>sd_ghgs_n2o</th>\n",
       "      <th>sd_bio</th>\n",
       "      <th>sd_watuse</th>\n",
       "      <th>sd_acid</th>\n",
       "      <th>n_participants</th>\n",
       "      <th>sex</th>\n",
       "      <th>diet_group</th>\n",
       "      <th>age_group</th>\n",
       "    </tr>\n",
       "  </thead>\n",
       "  <tbody>\n",
       "    <tr>\n",
       "      <th>0</th>\n",
       "      <td>1</td>\n",
       "      <td>fish_female_20-29</td>\n",
       "      <td>5.421821</td>\n",
       "      <td>8.612772</td>\n",
       "      <td>14165.86240</td>\n",
       "      <td>23.945372</td>\n",
       "      <td>1.164643</td>\n",
       "      <td>0.343663</td>\n",
       "      <td>476.270413</td>\n",
       "      <td>679.923479</td>\n",
       "      <td>...</td>\n",
       "      <td>8.167013</td>\n",
       "      <td>0.632547</td>\n",
       "      <td>0.146827</td>\n",
       "      <td>283.883428</td>\n",
       "      <td>249.472563</td>\n",
       "      <td>8.231176</td>\n",
       "      <td>1329</td>\n",
       "      <td>female</td>\n",
       "      <td>fish</td>\n",
       "      <td>20-29</td>\n",
       "    </tr>\n",
       "    <tr>\n",
       "      <th>1</th>\n",
       "      <td>1</td>\n",
       "      <td>fish_female_30-39</td>\n",
       "      <td>5.436673</td>\n",
       "      <td>8.680248</td>\n",
       "      <td>15222.77063</td>\n",
       "      <td>24.305262</td>\n",
       "      <td>1.154118</td>\n",
       "      <td>0.326868</td>\n",
       "      <td>467.923201</td>\n",
       "      <td>709.343785</td>\n",
       "      <td>...</td>\n",
       "      <td>8.467858</td>\n",
       "      <td>0.601941</td>\n",
       "      <td>0.130298</td>\n",
       "      <td>270.247108</td>\n",
       "      <td>277.927269</td>\n",
       "      <td>7.947014</td>\n",
       "      <td>2024</td>\n",
       "      <td>female</td>\n",
       "      <td>fish</td>\n",
       "      <td>30-39</td>\n",
       "    </tr>\n",
       "    <tr>\n",
       "      <th>2</th>\n",
       "      <td>1</td>\n",
       "      <td>fish_female_40-49</td>\n",
       "      <td>5.289333</td>\n",
       "      <td>8.467723</td>\n",
       "      <td>15818.80068</td>\n",
       "      <td>24.191105</td>\n",
       "      <td>1.108404</td>\n",
       "      <td>0.310324</td>\n",
       "      <td>438.659832</td>\n",
       "      <td>707.925368</td>\n",
       "      <td>...</td>\n",
       "      <td>8.107006</td>\n",
       "      <td>0.572941</td>\n",
       "      <td>0.119872</td>\n",
       "      <td>252.415063</td>\n",
       "      <td>275.760515</td>\n",
       "      <td>8.103589</td>\n",
       "      <td>1689</td>\n",
       "      <td>female</td>\n",
       "      <td>fish</td>\n",
       "      <td>40-49</td>\n",
       "    </tr>\n",
       "    <tr>\n",
       "      <th>3</th>\n",
       "      <td>1</td>\n",
       "      <td>fish_female_50-59</td>\n",
       "      <td>5.169020</td>\n",
       "      <td>8.219199</td>\n",
       "      <td>16962.06009</td>\n",
       "      <td>24.748154</td>\n",
       "      <td>1.032501</td>\n",
       "      <td>0.298130</td>\n",
       "      <td>395.787622</td>\n",
       "      <td>720.825105</td>\n",
       "      <td>...</td>\n",
       "      <td>9.514028</td>\n",
       "      <td>0.509689</td>\n",
       "      <td>0.104731</td>\n",
       "      <td>209.566722</td>\n",
       "      <td>310.422445</td>\n",
       "      <td>8.712428</td>\n",
       "      <td>946</td>\n",
       "      <td>female</td>\n",
       "      <td>fish</td>\n",
       "      <td>50-59</td>\n",
       "    </tr>\n",
       "    <tr>\n",
       "      <th>4</th>\n",
       "      <td>1</td>\n",
       "      <td>fish_female_60-69</td>\n",
       "      <td>5.380268</td>\n",
       "      <td>8.570718</td>\n",
       "      <td>18212.66232</td>\n",
       "      <td>25.559430</td>\n",
       "      <td>1.098828</td>\n",
       "      <td>0.310735</td>\n",
       "      <td>421.176867</td>\n",
       "      <td>749.392826</td>\n",
       "      <td>...</td>\n",
       "      <td>9.258068</td>\n",
       "      <td>0.609398</td>\n",
       "      <td>0.113401</td>\n",
       "      <td>264.599257</td>\n",
       "      <td>315.922570</td>\n",
       "      <td>8.616601</td>\n",
       "      <td>492</td>\n",
       "      <td>female</td>\n",
       "      <td>fish</td>\n",
       "      <td>60-69</td>\n",
       "    </tr>\n",
       "  </tbody>\n",
       "</table>\n",
       "<p>5 rows × 24 columns</p>\n",
       "</div>"
      ],
      "text/plain": [
       "   mc_run_id           grouping  mean_ghgs  mean_land  mean_watscar  \\\n",
       "0          1  fish_female_20-29   5.421821   8.612772   14165.86240   \n",
       "1          1  fish_female_30-39   5.436673   8.680248   15222.77063   \n",
       "2          1  fish_female_40-49   5.289333   8.467723   15818.80068   \n",
       "3          1  fish_female_50-59   5.169020   8.219199   16962.06009   \n",
       "4          1  fish_female_60-69   5.380268   8.570718   18212.66232   \n",
       "\n",
       "    mean_eut  mean_ghgs_ch4  mean_ghgs_n2o    mean_bio  mean_watuse  ...  \\\n",
       "0  23.945372       1.164643       0.343663  476.270413   679.923479  ...   \n",
       "1  24.305262       1.154118       0.326868  467.923201   709.343785  ...   \n",
       "2  24.191105       1.108404       0.310324  438.659832   707.925368  ...   \n",
       "3  24.748154       1.032501       0.298130  395.787622   720.825105  ...   \n",
       "4  25.559430       1.098828       0.310735  421.176867   749.392826  ...   \n",
       "\n",
       "     sd_eut  sd_ghgs_ch4  sd_ghgs_n2o      sd_bio   sd_watuse   sd_acid  \\\n",
       "0  8.167013     0.632547     0.146827  283.883428  249.472563  8.231176   \n",
       "1  8.467858     0.601941     0.130298  270.247108  277.927269  7.947014   \n",
       "2  8.107006     0.572941     0.119872  252.415063  275.760515  8.103589   \n",
       "3  9.514028     0.509689     0.104731  209.566722  310.422445  8.712428   \n",
       "4  9.258068     0.609398     0.113401  264.599257  315.922570  8.616601   \n",
       "\n",
       "   n_participants     sex  diet_group  age_group  \n",
       "0            1329  female        fish      20-29  \n",
       "1            2024  female        fish      30-39  \n",
       "2            1689  female        fish      40-49  \n",
       "3             946  female        fish      50-59  \n",
       "4             492  female        fish      60-69  \n",
       "\n",
       "[5 rows x 24 columns]"
      ]
     },
     "execution_count": 250,
     "metadata": {},
     "output_type": "execute_result"
    }
   ],
   "source": [
    "df.head()"
   ]
  },
  {
   "cell_type": "code",
   "execution_count": 251,
   "metadata": {},
   "outputs": [],
   "source": [
    "# aggregate the measures in each monte carlo run by taking the mean\n",
    "# means are taken first before standardising, want to take average of all monte carlo runs, don't care about variability between monte carlo runs\n",
    "agg_df = df.groupby(['diet_group', 'age_group', 'sex']).agg(\n",
    "    {'mean_ghgs': ['mean'], \n",
    "     'mean_land': ['mean'],\n",
    "     'mean_watscar': ['mean'],\n",
    "     'mean_eut': ['mean'],\n",
    "     'mean_ghgs_ch4': ['mean'],\n",
    "     'mean_ghgs_n2o': ['mean'],\n",
    "     'mean_bio': ['mean'],\n",
    "     'mean_watuse': ['mean'],\n",
    "     'mean_acid': ['mean']})"
   ]
  },
  {
   "cell_type": "code",
   "execution_count": 252,
   "metadata": {},
   "outputs": [],
   "source": [
    "measures = ['mean_ghgs', 'mean_land', 'mean_watscar', 'mean_eut', 'mean_ghgs_ch4', 'mean_ghgs_n2o', 'mean_bio', 'mean_watuse', 'mean_acid']\n",
    "\n",
    "# calculate Z scores for each measure\n",
    "for measure in measures:\n",
    "    agg_df[\"z_\" + measure] = (agg_df[measure] - agg_df[measure].mean()) / agg_df[measure].std()"
   ]
  },
  {
   "cell_type": "code",
   "execution_count": 253,
   "metadata": {},
   "outputs": [],
   "source": [
    "# get column names of all the Z values\n",
    "cols = list((c[0] for c in list(agg_df.columns.values)[9:]))\n",
    "\n",
    "# make a copy of the dataframe to append the total impact to\n",
    "total_impact_df = agg_df.copy()\n",
    "\n",
    "# sum the Z scores of each measure and append it to total_impact_df\n",
    "total_impact_df['total_impact'] = total_impact_df[cols].sum(axis=1, numeric_only=True)\n",
    "\n",
    "# resetting the index to remove the unnecessary groupings\n",
    "total_impact_df.reset_index(inplace=True)\n",
    "# also need to remove the second level of the multindex created by the groupby\n",
    "total_impact_df.columns = total_impact_df.columns.droplevel(1)\n"
   ]
  },
  {
   "cell_type": "code",
   "execution_count": 254,
   "metadata": {},
   "outputs": [
    {
     "data": {
      "text/html": [
       "<div>\n",
       "<style scoped>\n",
       "    .dataframe tbody tr th:only-of-type {\n",
       "        vertical-align: middle;\n",
       "    }\n",
       "\n",
       "    .dataframe tbody tr th {\n",
       "        vertical-align: top;\n",
       "    }\n",
       "\n",
       "    .dataframe thead th {\n",
       "        text-align: right;\n",
       "    }\n",
       "</style>\n",
       "<table border=\"1\" class=\"dataframe\">\n",
       "  <thead>\n",
       "    <tr style=\"text-align: right;\">\n",
       "      <th></th>\n",
       "      <th>diet_group</th>\n",
       "      <th>age_group</th>\n",
       "      <th>sex</th>\n",
       "      <th>mean_ghgs</th>\n",
       "      <th>mean_land</th>\n",
       "      <th>mean_watscar</th>\n",
       "      <th>mean_eut</th>\n",
       "      <th>mean_ghgs_ch4</th>\n",
       "      <th>mean_ghgs_n2o</th>\n",
       "      <th>mean_bio</th>\n",
       "      <th>...</th>\n",
       "      <th>z_mean_ghgs</th>\n",
       "      <th>z_mean_land</th>\n",
       "      <th>z_mean_watscar</th>\n",
       "      <th>z_mean_eut</th>\n",
       "      <th>z_mean_ghgs_ch4</th>\n",
       "      <th>z_mean_ghgs_n2o</th>\n",
       "      <th>z_mean_bio</th>\n",
       "      <th>z_mean_watuse</th>\n",
       "      <th>z_mean_acid</th>\n",
       "      <th>total_impact</th>\n",
       "    </tr>\n",
       "  </thead>\n",
       "  <tbody>\n",
       "    <tr>\n",
       "      <th>0</th>\n",
       "      <td>fish</td>\n",
       "      <td>20-29</td>\n",
       "      <td>female</td>\n",
       "      <td>4.902947</td>\n",
       "      <td>6.489031</td>\n",
       "      <td>17131.963352</td>\n",
       "      <td>20.985464</td>\n",
       "      <td>0.842864</td>\n",
       "      <td>0.322486</td>\n",
       "      <td>248.135212</td>\n",
       "      <td>...</td>\n",
       "      <td>-0.452240</td>\n",
       "      <td>-0.619829</td>\n",
       "      <td>-0.495698</td>\n",
       "      <td>-0.366700</td>\n",
       "      <td>-0.410964</td>\n",
       "      <td>-0.561071</td>\n",
       "      <td>-0.295870</td>\n",
       "      <td>0.107994</td>\n",
       "      <td>-0.433417</td>\n",
       "      <td>-3.527796</td>\n",
       "    </tr>\n",
       "    <tr>\n",
       "      <th>1</th>\n",
       "      <td>fish</td>\n",
       "      <td>20-29</td>\n",
       "      <td>male</td>\n",
       "      <td>5.659689</td>\n",
       "      <td>7.381889</td>\n",
       "      <td>19671.024654</td>\n",
       "      <td>24.162964</td>\n",
       "      <td>0.925972</td>\n",
       "      <td>0.366329</td>\n",
       "      <td>273.612309</td>\n",
       "      <td>...</td>\n",
       "      <td>-0.182900</td>\n",
       "      <td>-0.485563</td>\n",
       "      <td>0.559703</td>\n",
       "      <td>-0.046060</td>\n",
       "      <td>-0.295207</td>\n",
       "      <td>-0.346789</td>\n",
       "      <td>-0.012048</td>\n",
       "      <td>0.670751</td>\n",
       "      <td>-0.133587</td>\n",
       "      <td>-0.271700</td>\n",
       "    </tr>\n",
       "    <tr>\n",
       "      <th>2</th>\n",
       "      <td>fish</td>\n",
       "      <td>30-39</td>\n",
       "      <td>female</td>\n",
       "      <td>4.942664</td>\n",
       "      <td>6.515886</td>\n",
       "      <td>17652.628540</td>\n",
       "      <td>20.948442</td>\n",
       "      <td>0.836500</td>\n",
       "      <td>0.321971</td>\n",
       "      <td>249.827684</td>\n",
       "      <td>...</td>\n",
       "      <td>-0.438104</td>\n",
       "      <td>-0.615790</td>\n",
       "      <td>-0.279275</td>\n",
       "      <td>-0.370436</td>\n",
       "      <td>-0.419827</td>\n",
       "      <td>-0.563590</td>\n",
       "      <td>-0.277015</td>\n",
       "      <td>0.110164</td>\n",
       "      <td>-0.389292</td>\n",
       "      <td>-3.243166</td>\n",
       "    </tr>\n",
       "    <tr>\n",
       "      <th>3</th>\n",
       "      <td>fish</td>\n",
       "      <td>30-39</td>\n",
       "      <td>male</td>\n",
       "      <td>5.327206</td>\n",
       "      <td>6.977106</td>\n",
       "      <td>18953.095158</td>\n",
       "      <td>22.644064</td>\n",
       "      <td>0.854537</td>\n",
       "      <td>0.343782</td>\n",
       "      <td>262.360838</td>\n",
       "      <td>...</td>\n",
       "      <td>-0.301238</td>\n",
       "      <td>-0.546433</td>\n",
       "      <td>0.261285</td>\n",
       "      <td>-0.199332</td>\n",
       "      <td>-0.394705</td>\n",
       "      <td>-0.456986</td>\n",
       "      <td>-0.137393</td>\n",
       "      <td>0.436964</td>\n",
       "      <td>-0.257650</td>\n",
       "      <td>-1.595487</td>\n",
       "    </tr>\n",
       "    <tr>\n",
       "      <th>4</th>\n",
       "      <td>fish</td>\n",
       "      <td>40-49</td>\n",
       "      <td>female</td>\n",
       "      <td>4.927040</td>\n",
       "      <td>6.540682</td>\n",
       "      <td>17729.964756</td>\n",
       "      <td>20.713798</td>\n",
       "      <td>0.841106</td>\n",
       "      <td>0.320413</td>\n",
       "      <td>252.846922</td>\n",
       "      <td>...</td>\n",
       "      <td>-0.443665</td>\n",
       "      <td>-0.612062</td>\n",
       "      <td>-0.247129</td>\n",
       "      <td>-0.394114</td>\n",
       "      <td>-0.413412</td>\n",
       "      <td>-0.571204</td>\n",
       "      <td>-0.243380</td>\n",
       "      <td>0.048542</td>\n",
       "      <td>-0.370041</td>\n",
       "      <td>-3.246464</td>\n",
       "    </tr>\n",
       "  </tbody>\n",
       "</table>\n",
       "<p>5 rows × 22 columns</p>\n",
       "</div>"
      ],
      "text/plain": [
       "  diet_group age_group     sex  mean_ghgs  mean_land  mean_watscar   mean_eut  \\\n",
       "0       fish     20-29  female   4.902947   6.489031  17131.963352  20.985464   \n",
       "1       fish     20-29    male   5.659689   7.381889  19671.024654  24.162964   \n",
       "2       fish     30-39  female   4.942664   6.515886  17652.628540  20.948442   \n",
       "3       fish     30-39    male   5.327206   6.977106  18953.095158  22.644064   \n",
       "4       fish     40-49  female   4.927040   6.540682  17729.964756  20.713798   \n",
       "\n",
       "   mean_ghgs_ch4  mean_ghgs_n2o    mean_bio  ...  z_mean_ghgs  z_mean_land  \\\n",
       "0       0.842864       0.322486  248.135212  ...    -0.452240    -0.619829   \n",
       "1       0.925972       0.366329  273.612309  ...    -0.182900    -0.485563   \n",
       "2       0.836500       0.321971  249.827684  ...    -0.438104    -0.615790   \n",
       "3       0.854537       0.343782  262.360838  ...    -0.301238    -0.546433   \n",
       "4       0.841106       0.320413  252.846922  ...    -0.443665    -0.612062   \n",
       "\n",
       "   z_mean_watscar  z_mean_eut  z_mean_ghgs_ch4  z_mean_ghgs_n2o  z_mean_bio  \\\n",
       "0       -0.495698   -0.366700        -0.410964        -0.561071   -0.295870   \n",
       "1        0.559703   -0.046060        -0.295207        -0.346789   -0.012048   \n",
       "2       -0.279275   -0.370436        -0.419827        -0.563590   -0.277015   \n",
       "3        0.261285   -0.199332        -0.394705        -0.456986   -0.137393   \n",
       "4       -0.247129   -0.394114        -0.413412        -0.571204   -0.243380   \n",
       "\n",
       "   z_mean_watuse  z_mean_acid  total_impact  \n",
       "0       0.107994    -0.433417     -3.527796  \n",
       "1       0.670751    -0.133587     -0.271700  \n",
       "2       0.110164    -0.389292     -3.243166  \n",
       "3       0.436964    -0.257650     -1.595487  \n",
       "4       0.048542    -0.370041     -3.246464  \n",
       "\n",
       "[5 rows x 22 columns]"
      ]
     },
     "execution_count": 254,
     "metadata": {},
     "output_type": "execute_result"
    }
   ],
   "source": [
    "total_impact_df.head()"
   ]
  },
  {
   "cell_type": "code",
   "execution_count": 255,
   "metadata": {},
   "outputs": [],
   "source": [
    "# select columns used for the treemap\n",
    "treemap_df = total_impact_df[['diet_group', 'age_group', 'sex', 'total_impact']].copy()\n",
    "\n",
    "# make all total impact values positive and save it to another column (Z scores can be negative)]\n",
    "# this is used for treemap area (area can't be negative)\n",
    "treemap_df.loc[:, 'total_impact_abs'] = treemap_df['total_impact'].abs()"
   ]
  },
  {
   "cell_type": "code",
   "execution_count": null,
   "metadata": {},
   "outputs": [],
   "source": [
    "# renames the diet groups and sexes to more representative values\n",
    "treemap_df['diet_group'] = treemap_df['diet_group'].replace({\n",
    "    'meat100': 'High Meat', \n",
    "    'meat': 'Medium Meat', \n",
    "    'meat50': 'Low Meat',\n",
    "    'vegan': 'Vegan',\n",
    "    'veggie': 'Vegetarian',\n",
    "    'fish': 'Fish'})\n",
    "treemap_df['sex'] = treemap_df['sex'].replace({'male': 'Male', 'female': 'Female'})"
   ]
  },
  {
   "cell_type": "code",
   "execution_count": null,
   "metadata": {},
   "outputs": [
    {
     "data": {
      "application/vnd.plotly.v1+json": {
       "config": {
        "plotlyServerURL": "https://plot.ly"
       },
       "data": [
        {
         "branchvalues": "total",
         "customdata": {
          "bdata": "7R0U6ew4DMAlPYrZiGPRvx6Ade0A8gnA5g7x4R2H+b+JkWRDwvgJwPJ6iTSAEQPAhf1OCM/WBcCIjC9Aj0wDwGayLEWL+/2/kqeVWJEhAMBCFvxtoA0BwLqihZSiqem/at3GQnMyB0CMPBGlGEkTQK1MmVGSowpA2KqMrWKUFUBm8yl4tS0QQGIpNL/CfxNAl6kAN8tlEUBjjGywIRQTQNv+RZfm4RJAb3W2JtRvFEAFTSy+w3oUQN4gj6snuRZA5BaCScX+KUBsPkS5BpszQAyjUtDahypAh4c1+10aMEBSgZRTEnotQF8DMQteHi9AjJFtelwsL0CgXv8l6/4vQG8Mq0zNKi9ABfAVl5qGL0CsOmv2MfMwQAj7ZXiK2jFAcWEb6HI8AsC2u/+vEnXuv5mljCS4/fy/gNyctUzWlz8feP7FTVv5v7vQl8Sk4ua/ab1d3SFK7b9KaRYsrCbhv4xLYZ1sNte/f1A4FqMP3b+h+v2XAsLWv3Dpkn1O1OE/sUSKFlb+KsD+ZrkW5RQmwHviKxdUnynAzvPAFsDMJ8BR8iY7aownwNleQC9NACjAp5C7Z6OKKMCCye6T71spwAPnAJNHbyfAMKMZfw+tJsCNWapXdSglwKCGZIynJifAhApUfGDLGsAWpaXgwU0RwObfrhO+lhnAvUBgqXfbEsCm2Lj10OcYwDGfYSaipxXAX7pYKxMBGMAFK1kE06MXwEf6saDkzBXAJ2yIFm9qFsDIwB2668QUwHfCkKTdhRHArJzyvBBcCsBRGgIxUpkFwNDq1paQDAfANiLUNsKlBMB+vkjIBir/v7IQnEteSvy/Xh5PjA9mEEBNgo2eVW0SQFQuf71K/hFANFrE9eBGEkAsaB/5urATQGd6owbgqBVAAWkmvaL4MEA+4x84fKQtQPRdVMrpUS5AVD1WuwKXL0B/IHQo91gvQH/pBB3faTFAg01uIgM3/r8nMrbxXp78v75jF7a2B/W/IQIw+YLO6L+IEydLyXbav3+wT8Y0zck/dwpKKovIKMCc5jF+pL4owPby3+zoxifAcswFawD1KMBwZ/OPxA8nwC1pQMUHMybA4YwX9gMSF8DV7EN3mrsWwLqomHHGZBfAIkWCWc7SF8ARlsqDwhwWwM7+HuOeSBPAJeg+B/mvBMC8CQkMG+gSQDDV7xyDBTBAdBjpVBrD9L+bnA2nefYnwBhsrmDefxbAdABka514AkA=",
          "dtype": "f8",
          "shape": "115, 1"
         },
         "domain": {
          "x": [
           0,
           1
          ],
          "y": [
           0,
           1
          ]
         },
         "hovertemplate": "Group = %{label}<br>Total Impact = %{color}<extra></extra>",
         "ids": [
          "All Groups/Fish/20-29/Female",
          "All Groups/Fish/20-29/Male",
          "All Groups/Fish/30-39/Female",
          "All Groups/Fish/30-39/Male",
          "All Groups/Fish/40-49/Female",
          "All Groups/Fish/40-49/Male",
          "All Groups/Fish/50-59/Female",
          "All Groups/Fish/50-59/Male",
          "All Groups/Fish/60-69/Female",
          "All Groups/Fish/60-69/Male",
          "All Groups/Fish/70-79/Female",
          "All Groups/Fish/70-79/Male",
          "All Groups/Medium Meat/20-29/Female",
          "All Groups/Medium Meat/20-29/Male",
          "All Groups/Medium Meat/30-39/Female",
          "All Groups/Medium Meat/30-39/Male",
          "All Groups/Medium Meat/40-49/Female",
          "All Groups/Medium Meat/40-49/Male",
          "All Groups/Medium Meat/50-59/Female",
          "All Groups/Medium Meat/50-59/Male",
          "All Groups/Medium Meat/60-69/Female",
          "All Groups/Medium Meat/60-69/Male",
          "All Groups/Medium Meat/70-79/Female",
          "All Groups/Medium Meat/70-79/Male",
          "All Groups/High Meat/20-29/Female",
          "All Groups/High Meat/20-29/Male",
          "All Groups/High Meat/30-39/Female",
          "All Groups/High Meat/30-39/Male",
          "All Groups/High Meat/40-49/Female",
          "All Groups/High Meat/40-49/Male",
          "All Groups/High Meat/50-59/Female",
          "All Groups/High Meat/50-59/Male",
          "All Groups/High Meat/60-69/Female",
          "All Groups/High Meat/60-69/Male",
          "All Groups/High Meat/70-79/Female",
          "All Groups/High Meat/70-79/Male",
          "All Groups/Low Meat/20-29/Female",
          "All Groups/Low Meat/20-29/Male",
          "All Groups/Low Meat/30-39/Female",
          "All Groups/Low Meat/30-39/Male",
          "All Groups/Low Meat/40-49/Female",
          "All Groups/Low Meat/40-49/Male",
          "All Groups/Low Meat/50-59/Female",
          "All Groups/Low Meat/50-59/Male",
          "All Groups/Low Meat/60-69/Female",
          "All Groups/Low Meat/60-69/Male",
          "All Groups/Low Meat/70-79/Female",
          "All Groups/Low Meat/70-79/Male",
          "All Groups/Vegan/20-29/Female",
          "All Groups/Vegan/20-29/Male",
          "All Groups/Vegan/30-39/Female",
          "All Groups/Vegan/30-39/Male",
          "All Groups/Vegan/40-49/Female",
          "All Groups/Vegan/40-49/Male",
          "All Groups/Vegan/50-59/Female",
          "All Groups/Vegan/50-59/Male",
          "All Groups/Vegan/60-69/Female",
          "All Groups/Vegan/60-69/Male",
          "All Groups/Vegan/70-79/Female",
          "All Groups/Vegan/70-79/Male",
          "All Groups/Vegetarian/20-29/Female",
          "All Groups/Vegetarian/20-29/Male",
          "All Groups/Vegetarian/30-39/Female",
          "All Groups/Vegetarian/30-39/Male",
          "All Groups/Vegetarian/40-49/Female",
          "All Groups/Vegetarian/40-49/Male",
          "All Groups/Vegetarian/50-59/Female",
          "All Groups/Vegetarian/50-59/Male",
          "All Groups/Vegetarian/60-69/Female",
          "All Groups/Vegetarian/60-69/Male",
          "All Groups/Vegetarian/70-79/Female",
          "All Groups/Vegetarian/70-79/Male",
          "All Groups/Fish/20-29",
          "All Groups/Fish/30-39",
          "All Groups/Fish/40-49",
          "All Groups/Fish/50-59",
          "All Groups/Fish/60-69",
          "All Groups/Fish/70-79",
          "All Groups/Medium Meat/20-29",
          "All Groups/Medium Meat/30-39",
          "All Groups/Medium Meat/40-49",
          "All Groups/Medium Meat/50-59",
          "All Groups/Medium Meat/60-69",
          "All Groups/Medium Meat/70-79",
          "All Groups/High Meat/20-29",
          "All Groups/High Meat/30-39",
          "All Groups/High Meat/40-49",
          "All Groups/High Meat/50-59",
          "All Groups/High Meat/60-69",
          "All Groups/High Meat/70-79",
          "All Groups/Low Meat/20-29",
          "All Groups/Low Meat/30-39",
          "All Groups/Low Meat/40-49",
          "All Groups/Low Meat/50-59",
          "All Groups/Low Meat/60-69",
          "All Groups/Low Meat/70-79",
          "All Groups/Vegan/20-29",
          "All Groups/Vegan/30-39",
          "All Groups/Vegan/40-49",
          "All Groups/Vegan/50-59",
          "All Groups/Vegan/60-69",
          "All Groups/Vegan/70-79",
          "All Groups/Vegetarian/20-29",
          "All Groups/Vegetarian/30-39",
          "All Groups/Vegetarian/40-49",
          "All Groups/Vegetarian/50-59",
          "All Groups/Vegetarian/60-69",
          "All Groups/Vegetarian/70-79",
          "All Groups/Fish",
          "All Groups/Medium Meat",
          "All Groups/High Meat",
          "All Groups/Low Meat",
          "All Groups/Vegan",
          "All Groups/Vegetarian",
          "All Groups"
         ],
         "labels": [
          "Female",
          "Male",
          "Female",
          "Male",
          "Female",
          "Male",
          "Female",
          "Male",
          "Female",
          "Male",
          "Female",
          "Male",
          "Female",
          "Male",
          "Female",
          "Male",
          "Female",
          "Male",
          "Female",
          "Male",
          "Female",
          "Male",
          "Female",
          "Male",
          "Female",
          "Male",
          "Female",
          "Male",
          "Female",
          "Male",
          "Female",
          "Male",
          "Female",
          "Male",
          "Female",
          "Male",
          "Female",
          "Male",
          "Female",
          "Male",
          "Female",
          "Male",
          "Female",
          "Male",
          "Female",
          "Male",
          "Female",
          "Male",
          "Female",
          "Male",
          "Female",
          "Male",
          "Female",
          "Male",
          "Female",
          "Male",
          "Female",
          "Male",
          "Female",
          "Male",
          "Female",
          "Male",
          "Female",
          "Male",
          "Female",
          "Male",
          "Female",
          "Male",
          "Female",
          "Male",
          "Female",
          "Male",
          "20-29",
          "30-39",
          "40-49",
          "50-59",
          "60-69",
          "70-79",
          "20-29",
          "30-39",
          "40-49",
          "50-59",
          "60-69",
          "70-79",
          "20-29",
          "30-39",
          "40-49",
          "50-59",
          "60-69",
          "70-79",
          "20-29",
          "30-39",
          "40-49",
          "50-59",
          "60-69",
          "70-79",
          "20-29",
          "30-39",
          "40-49",
          "50-59",
          "60-69",
          "70-79",
          "20-29",
          "30-39",
          "40-49",
          "50-59",
          "60-69",
          "70-79",
          "Fish",
          "Medium Meat",
          "High Meat",
          "Low Meat",
          "Vegan",
          "Vegetarian",
          "All Groups"
         ],
         "marker": {
          "coloraxis": "coloraxis",
          "colors": {
           "bdata": "7R0U6ew4DMAlPYrZiGPRvx6Ade0A8gnA5g7x4R2H+b+JkWRDwvgJwPJ6iTSAEQPAhf1OCM/WBcCIjC9Aj0wDwGayLEWL+/2/kqeVWJEhAMBCFvxtoA0BwLqihZSiqem/at3GQnMyB0CMPBGlGEkTQK1MmVGSowpA2KqMrWKUFUBm8yl4tS0QQGIpNL/CfxNAl6kAN8tlEUBjjGywIRQTQNv+RZfm4RJAb3W2JtRvFEAFTSy+w3oUQN4gj6snuRZA5BaCScX+KUBsPkS5BpszQAyjUtDahypAh4c1+10aMEBSgZRTEnotQF8DMQteHi9AjJFtelwsL0CgXv8l6/4vQG8Mq0zNKi9ABfAVl5qGL0CsOmv2MfMwQAj7ZXiK2jFAcWEb6HI8AsC2u/+vEnXuv5mljCS4/fy/gNyctUzWlz8feP7FTVv5v7vQl8Sk4ua/ab1d3SFK7b9KaRYsrCbhv4xLYZ1sNte/f1A4FqMP3b+h+v2XAsLWv3Dpkn1O1OE/sUSKFlb+KsD+ZrkW5RQmwHviKxdUnynAzvPAFsDMJ8BR8iY7aownwNleQC9NACjAp5C7Z6OKKMCCye6T71spwAPnAJNHbyfAMKMZfw+tJsCNWapXdSglwKCGZIynJifAhApUfGDLGsAWpaXgwU0RwObfrhO+lhnAvUBgqXfbEsCm2Lj10OcYwDGfYSaipxXAX7pYKxMBGMAFK1kE06MXwEf6saDkzBXAJ2yIFm9qFsDIwB2668QUwHfCkKTdhRHArJzyvBBcCsBRGgIxUpkFwNDq1paQDAfANiLUNsKlBMB+vkjIBir/v7IQnEteSvy/Xh5PjA9mEEBNgo2eVW0SQFQuf71K/hFANFrE9eBGEkAsaB/5urATQGd6owbgqBVAAWkmvaL4MEA+4x84fKQtQPRdVMrpUS5AVD1WuwKXL0B/IHQo91gvQH/pBB3faTFAg01uIgM3/r8nMrbxXp78v75jF7a2B/W/IQIw+YLO6L+IEydLyXbav3+wT8Y0zck/dwpKKovIKMCc5jF+pL4owPby3+zoxifAcswFawD1KMBwZ/OPxA8nwC1pQMUHMybA4YwX9gMSF8DV7EN3mrsWwLqomHHGZBfAIkWCWc7SF8ARlsqDwhwWwM7+HuOeSBPAJeg+B/mvBMC8CQkMG+gSQDDV7xyDBTBAdBjpVBrD9L+bnA2nefYnwBhsrmDefxbAdABka514AkA=",
           "dtype": "f8"
          }
         },
         "name": "",
         "parents": [
          "All Groups/Fish/20-29",
          "All Groups/Fish/20-29",
          "All Groups/Fish/30-39",
          "All Groups/Fish/30-39",
          "All Groups/Fish/40-49",
          "All Groups/Fish/40-49",
          "All Groups/Fish/50-59",
          "All Groups/Fish/50-59",
          "All Groups/Fish/60-69",
          "All Groups/Fish/60-69",
          "All Groups/Fish/70-79",
          "All Groups/Fish/70-79",
          "All Groups/Medium Meat/20-29",
          "All Groups/Medium Meat/20-29",
          "All Groups/Medium Meat/30-39",
          "All Groups/Medium Meat/30-39",
          "All Groups/Medium Meat/40-49",
          "All Groups/Medium Meat/40-49",
          "All Groups/Medium Meat/50-59",
          "All Groups/Medium Meat/50-59",
          "All Groups/Medium Meat/60-69",
          "All Groups/Medium Meat/60-69",
          "All Groups/Medium Meat/70-79",
          "All Groups/Medium Meat/70-79",
          "All Groups/High Meat/20-29",
          "All Groups/High Meat/20-29",
          "All Groups/High Meat/30-39",
          "All Groups/High Meat/30-39",
          "All Groups/High Meat/40-49",
          "All Groups/High Meat/40-49",
          "All Groups/High Meat/50-59",
          "All Groups/High Meat/50-59",
          "All Groups/High Meat/60-69",
          "All Groups/High Meat/60-69",
          "All Groups/High Meat/70-79",
          "All Groups/High Meat/70-79",
          "All Groups/Low Meat/20-29",
          "All Groups/Low Meat/20-29",
          "All Groups/Low Meat/30-39",
          "All Groups/Low Meat/30-39",
          "All Groups/Low Meat/40-49",
          "All Groups/Low Meat/40-49",
          "All Groups/Low Meat/50-59",
          "All Groups/Low Meat/50-59",
          "All Groups/Low Meat/60-69",
          "All Groups/Low Meat/60-69",
          "All Groups/Low Meat/70-79",
          "All Groups/Low Meat/70-79",
          "All Groups/Vegan/20-29",
          "All Groups/Vegan/20-29",
          "All Groups/Vegan/30-39",
          "All Groups/Vegan/30-39",
          "All Groups/Vegan/40-49",
          "All Groups/Vegan/40-49",
          "All Groups/Vegan/50-59",
          "All Groups/Vegan/50-59",
          "All Groups/Vegan/60-69",
          "All Groups/Vegan/60-69",
          "All Groups/Vegan/70-79",
          "All Groups/Vegan/70-79",
          "All Groups/Vegetarian/20-29",
          "All Groups/Vegetarian/20-29",
          "All Groups/Vegetarian/30-39",
          "All Groups/Vegetarian/30-39",
          "All Groups/Vegetarian/40-49",
          "All Groups/Vegetarian/40-49",
          "All Groups/Vegetarian/50-59",
          "All Groups/Vegetarian/50-59",
          "All Groups/Vegetarian/60-69",
          "All Groups/Vegetarian/60-69",
          "All Groups/Vegetarian/70-79",
          "All Groups/Vegetarian/70-79",
          "All Groups/Fish",
          "All Groups/Fish",
          "All Groups/Fish",
          "All Groups/Fish",
          "All Groups/Fish",
          "All Groups/Fish",
          "All Groups/Medium Meat",
          "All Groups/Medium Meat",
          "All Groups/Medium Meat",
          "All Groups/Medium Meat",
          "All Groups/Medium Meat",
          "All Groups/Medium Meat",
          "All Groups/High Meat",
          "All Groups/High Meat",
          "All Groups/High Meat",
          "All Groups/High Meat",
          "All Groups/High Meat",
          "All Groups/High Meat",
          "All Groups/Low Meat",
          "All Groups/Low Meat",
          "All Groups/Low Meat",
          "All Groups/Low Meat",
          "All Groups/Low Meat",
          "All Groups/Low Meat",
          "All Groups/Vegan",
          "All Groups/Vegan",
          "All Groups/Vegan",
          "All Groups/Vegan",
          "All Groups/Vegan",
          "All Groups/Vegan",
          "All Groups/Vegetarian",
          "All Groups/Vegetarian",
          "All Groups/Vegetarian",
          "All Groups/Vegetarian",
          "All Groups/Vegetarian",
          "All Groups/Vegetarian",
          "All Groups",
          "All Groups",
          "All Groups",
          "All Groups",
          "All Groups",
          "All Groups",
          ""
         ],
         "type": "treemap",
         "values": {
          "bdata": "7R0U6ew4DEAlPYrZiGPRPx6Ade0A8glA5g7x4R2H+T+IkWRDwvgJQPJ6iTSAEQNAhf1OCM/WBUCIjC9Aj0wDQGayLEWL+/0/kqeVWJEhAEBCFvxtoA0BQLuihZSiqek/ad3GQnMyB0CMPBGlGEkTQK1MmVGSowpA2KqMrWKUFUBm8yl4tS0QQGIpNL/CfxNAl6kAN8tlEUBjjGywIRQTQNv+RZfm4RJAb3W2JtRvFEAFTSy+w3oUQN4gj6snuRZA5BaCScX+KUBsPkS5BpszQAyjUtDahypAh4c1+10aMEBSgZRTEnotQF8DMQteHi9AjJFtelwsL0CgXv8l6/4vQG8Mq0zNKi9ABfAVl5qGL0CsOmv2MfMwQAj7ZXiK2jFAcWEb6HI8AkC2u/+vEnXuP5mljCS4/fw/gNyctUzWlz8feP7FTVv5P7vQl8Sk4uY/ab1d3SFK7T9KaRYsrCbhP4tLYZ1sNtc/f1A4FqMP3T+g+v2XAsLWP3Dpkn1O1OE/sUSKFlb+KkD+ZrkW5RQmQHviKxdUnylAzvPAFsDMJ0BQ8iY7aownQNheQC9NAChAp5C7Z6OKKECCye6T71spQAPnAJNHbydAMKMZfw+tJkCNWapXdSglQKCGZIynJidAgwpUfGDLGkAWpaXgwU0RQObfrhO+lhlAvUBgqXfbEkCm2Lj10OcYQDGfYSaipxVAX7pYKxMBGEAFK1kE06MXQEf6saDkzBVAJ2yIFm9qFkDIwB2668QUQHfCkKTdhRFAkmVFBF5lDkDIAzfvx1oTQD0G9zshhRZABkU/JK+RFEDFACz7Vh8PQPF+HRMJeAdAQKt0RlLiHkCXqCzrFXMhQGQOrxu81iFA/Zq2c/Y8IkAlOv5e3agjQPK23bT1mSVA76QCrzRNQEAN2V5jS149QFjCYi84TD5AFng20KOVP0A6fuDxs1g/QNqaaDfeZkFAXlAblLfZCUALGWNXEV39Pz4wJRRQZgJAWhO6BGc49z8FzszZByPqP8DmkclPNe0/2NWhlp2JOEAka/YWCrY4QJSoM7VbxjdAFC3VfUnzOEAaRQ2JKw43QBZwB3KOJzZAzNd8LpEMJkBSkIfeGjkmQOw7DY65RydAsvLYF3PSJ0A3M53bqRsmQKBBV69kJSNAbDAt1v07OkAsJmossY5LQCniNSQgwGdAALHJbzYYJUB7uXbb4OVhQHLhu+cclFBAgqszcF+2fkA=",
          "dtype": "f8"
         }
        }
       ],
       "layout": {
        "coloraxis": {
         "colorbar": {
          "orientation": "h",
          "tickfont": {
           "size": 12
          },
          "title": {
           "font": {
            "size": 16
           },
           "side": "bottom",
           "text": "Difference From Mean Environmental Impact"
          },
          "x": 0.5,
          "xanchor": "center",
          "y": -0.15
         },
         "colorscale": [
          [
           0,
           "darkgreen"
          ],
          [
           0.5,
           "white"
          ],
          [
           1,
           "#bb0000"
          ]
         ]
        },
        "height": 1000,
        "legend": {
         "tracegroupgap": 0
        },
        "margin": {
         "t": 60
        },
        "template": {
         "data": {
          "bar": [
           {
            "error_x": {
             "color": "#2a3f5f"
            },
            "error_y": {
             "color": "#2a3f5f"
            },
            "marker": {
             "line": {
              "color": "#E5ECF6",
              "width": 0.5
             },
             "pattern": {
              "fillmode": "overlay",
              "size": 10,
              "solidity": 0.2
             }
            },
            "type": "bar"
           }
          ],
          "barpolar": [
           {
            "marker": {
             "line": {
              "color": "#E5ECF6",
              "width": 0.5
             },
             "pattern": {
              "fillmode": "overlay",
              "size": 10,
              "solidity": 0.2
             }
            },
            "type": "barpolar"
           }
          ],
          "carpet": [
           {
            "aaxis": {
             "endlinecolor": "#2a3f5f",
             "gridcolor": "white",
             "linecolor": "white",
             "minorgridcolor": "white",
             "startlinecolor": "#2a3f5f"
            },
            "baxis": {
             "endlinecolor": "#2a3f5f",
             "gridcolor": "white",
             "linecolor": "white",
             "minorgridcolor": "white",
             "startlinecolor": "#2a3f5f"
            },
            "type": "carpet"
           }
          ],
          "choropleth": [
           {
            "colorbar": {
             "outlinewidth": 0,
             "ticks": ""
            },
            "type": "choropleth"
           }
          ],
          "contour": [
           {
            "colorbar": {
             "outlinewidth": 0,
             "ticks": ""
            },
            "colorscale": [
             [
              0,
              "#0d0887"
             ],
             [
              0.1111111111111111,
              "#46039f"
             ],
             [
              0.2222222222222222,
              "#7201a8"
             ],
             [
              0.3333333333333333,
              "#9c179e"
             ],
             [
              0.4444444444444444,
              "#bd3786"
             ],
             [
              0.5555555555555556,
              "#d8576b"
             ],
             [
              0.6666666666666666,
              "#ed7953"
             ],
             [
              0.7777777777777778,
              "#fb9f3a"
             ],
             [
              0.8888888888888888,
              "#fdca26"
             ],
             [
              1,
              "#f0f921"
             ]
            ],
            "type": "contour"
           }
          ],
          "contourcarpet": [
           {
            "colorbar": {
             "outlinewidth": 0,
             "ticks": ""
            },
            "type": "contourcarpet"
           }
          ],
          "heatmap": [
           {
            "colorbar": {
             "outlinewidth": 0,
             "ticks": ""
            },
            "colorscale": [
             [
              0,
              "#0d0887"
             ],
             [
              0.1111111111111111,
              "#46039f"
             ],
             [
              0.2222222222222222,
              "#7201a8"
             ],
             [
              0.3333333333333333,
              "#9c179e"
             ],
             [
              0.4444444444444444,
              "#bd3786"
             ],
             [
              0.5555555555555556,
              "#d8576b"
             ],
             [
              0.6666666666666666,
              "#ed7953"
             ],
             [
              0.7777777777777778,
              "#fb9f3a"
             ],
             [
              0.8888888888888888,
              "#fdca26"
             ],
             [
              1,
              "#f0f921"
             ]
            ],
            "type": "heatmap"
           }
          ],
          "histogram": [
           {
            "marker": {
             "pattern": {
              "fillmode": "overlay",
              "size": 10,
              "solidity": 0.2
             }
            },
            "type": "histogram"
           }
          ],
          "histogram2d": [
           {
            "colorbar": {
             "outlinewidth": 0,
             "ticks": ""
            },
            "colorscale": [
             [
              0,
              "#0d0887"
             ],
             [
              0.1111111111111111,
              "#46039f"
             ],
             [
              0.2222222222222222,
              "#7201a8"
             ],
             [
              0.3333333333333333,
              "#9c179e"
             ],
             [
              0.4444444444444444,
              "#bd3786"
             ],
             [
              0.5555555555555556,
              "#d8576b"
             ],
             [
              0.6666666666666666,
              "#ed7953"
             ],
             [
              0.7777777777777778,
              "#fb9f3a"
             ],
             [
              0.8888888888888888,
              "#fdca26"
             ],
             [
              1,
              "#f0f921"
             ]
            ],
            "type": "histogram2d"
           }
          ],
          "histogram2dcontour": [
           {
            "colorbar": {
             "outlinewidth": 0,
             "ticks": ""
            },
            "colorscale": [
             [
              0,
              "#0d0887"
             ],
             [
              0.1111111111111111,
              "#46039f"
             ],
             [
              0.2222222222222222,
              "#7201a8"
             ],
             [
              0.3333333333333333,
              "#9c179e"
             ],
             [
              0.4444444444444444,
              "#bd3786"
             ],
             [
              0.5555555555555556,
              "#d8576b"
             ],
             [
              0.6666666666666666,
              "#ed7953"
             ],
             [
              0.7777777777777778,
              "#fb9f3a"
             ],
             [
              0.8888888888888888,
              "#fdca26"
             ],
             [
              1,
              "#f0f921"
             ]
            ],
            "type": "histogram2dcontour"
           }
          ],
          "mesh3d": [
           {
            "colorbar": {
             "outlinewidth": 0,
             "ticks": ""
            },
            "type": "mesh3d"
           }
          ],
          "parcoords": [
           {
            "line": {
             "colorbar": {
              "outlinewidth": 0,
              "ticks": ""
             }
            },
            "type": "parcoords"
           }
          ],
          "pie": [
           {
            "automargin": true,
            "type": "pie"
           }
          ],
          "scatter": [
           {
            "fillpattern": {
             "fillmode": "overlay",
             "size": 10,
             "solidity": 0.2
            },
            "type": "scatter"
           }
          ],
          "scatter3d": [
           {
            "line": {
             "colorbar": {
              "outlinewidth": 0,
              "ticks": ""
             }
            },
            "marker": {
             "colorbar": {
              "outlinewidth": 0,
              "ticks": ""
             }
            },
            "type": "scatter3d"
           }
          ],
          "scattercarpet": [
           {
            "marker": {
             "colorbar": {
              "outlinewidth": 0,
              "ticks": ""
             }
            },
            "type": "scattercarpet"
           }
          ],
          "scattergeo": [
           {
            "marker": {
             "colorbar": {
              "outlinewidth": 0,
              "ticks": ""
             }
            },
            "type": "scattergeo"
           }
          ],
          "scattergl": [
           {
            "marker": {
             "colorbar": {
              "outlinewidth": 0,
              "ticks": ""
             }
            },
            "type": "scattergl"
           }
          ],
          "scattermap": [
           {
            "marker": {
             "colorbar": {
              "outlinewidth": 0,
              "ticks": ""
             }
            },
            "type": "scattermap"
           }
          ],
          "scattermapbox": [
           {
            "marker": {
             "colorbar": {
              "outlinewidth": 0,
              "ticks": ""
             }
            },
            "type": "scattermapbox"
           }
          ],
          "scatterpolar": [
           {
            "marker": {
             "colorbar": {
              "outlinewidth": 0,
              "ticks": ""
             }
            },
            "type": "scatterpolar"
           }
          ],
          "scatterpolargl": [
           {
            "marker": {
             "colorbar": {
              "outlinewidth": 0,
              "ticks": ""
             }
            },
            "type": "scatterpolargl"
           }
          ],
          "scatterternary": [
           {
            "marker": {
             "colorbar": {
              "outlinewidth": 0,
              "ticks": ""
             }
            },
            "type": "scatterternary"
           }
          ],
          "surface": [
           {
            "colorbar": {
             "outlinewidth": 0,
             "ticks": ""
            },
            "colorscale": [
             [
              0,
              "#0d0887"
             ],
             [
              0.1111111111111111,
              "#46039f"
             ],
             [
              0.2222222222222222,
              "#7201a8"
             ],
             [
              0.3333333333333333,
              "#9c179e"
             ],
             [
              0.4444444444444444,
              "#bd3786"
             ],
             [
              0.5555555555555556,
              "#d8576b"
             ],
             [
              0.6666666666666666,
              "#ed7953"
             ],
             [
              0.7777777777777778,
              "#fb9f3a"
             ],
             [
              0.8888888888888888,
              "#fdca26"
             ],
             [
              1,
              "#f0f921"
             ]
            ],
            "type": "surface"
           }
          ],
          "table": [
           {
            "cells": {
             "fill": {
              "color": "#EBF0F8"
             },
             "line": {
              "color": "white"
             }
            },
            "header": {
             "fill": {
              "color": "#C8D4E3"
             },
             "line": {
              "color": "white"
             }
            },
            "type": "table"
           }
          ]
         },
         "layout": {
          "annotationdefaults": {
           "arrowcolor": "#2a3f5f",
           "arrowhead": 0,
           "arrowwidth": 1
          },
          "autotypenumbers": "strict",
          "coloraxis": {
           "colorbar": {
            "outlinewidth": 0,
            "ticks": ""
           }
          },
          "colorscale": {
           "diverging": [
            [
             0,
             "#8e0152"
            ],
            [
             0.1,
             "#c51b7d"
            ],
            [
             0.2,
             "#de77ae"
            ],
            [
             0.3,
             "#f1b6da"
            ],
            [
             0.4,
             "#fde0ef"
            ],
            [
             0.5,
             "#f7f7f7"
            ],
            [
             0.6,
             "#e6f5d0"
            ],
            [
             0.7,
             "#b8e186"
            ],
            [
             0.8,
             "#7fbc41"
            ],
            [
             0.9,
             "#4d9221"
            ],
            [
             1,
             "#276419"
            ]
           ],
           "sequential": [
            [
             0,
             "#0d0887"
            ],
            [
             0.1111111111111111,
             "#46039f"
            ],
            [
             0.2222222222222222,
             "#7201a8"
            ],
            [
             0.3333333333333333,
             "#9c179e"
            ],
            [
             0.4444444444444444,
             "#bd3786"
            ],
            [
             0.5555555555555556,
             "#d8576b"
            ],
            [
             0.6666666666666666,
             "#ed7953"
            ],
            [
             0.7777777777777778,
             "#fb9f3a"
            ],
            [
             0.8888888888888888,
             "#fdca26"
            ],
            [
             1,
             "#f0f921"
            ]
           ],
           "sequentialminus": [
            [
             0,
             "#0d0887"
            ],
            [
             0.1111111111111111,
             "#46039f"
            ],
            [
             0.2222222222222222,
             "#7201a8"
            ],
            [
             0.3333333333333333,
             "#9c179e"
            ],
            [
             0.4444444444444444,
             "#bd3786"
            ],
            [
             0.5555555555555556,
             "#d8576b"
            ],
            [
             0.6666666666666666,
             "#ed7953"
            ],
            [
             0.7777777777777778,
             "#fb9f3a"
            ],
            [
             0.8888888888888888,
             "#fdca26"
            ],
            [
             1,
             "#f0f921"
            ]
           ]
          },
          "colorway": [
           "#636efa",
           "#EF553B",
           "#00cc96",
           "#ab63fa",
           "#FFA15A",
           "#19d3f3",
           "#FF6692",
           "#B6E880",
           "#FF97FF",
           "#FECB52"
          ],
          "font": {
           "color": "#2a3f5f"
          },
          "geo": {
           "bgcolor": "white",
           "lakecolor": "white",
           "landcolor": "#E5ECF6",
           "showlakes": true,
           "showland": true,
           "subunitcolor": "white"
          },
          "hoverlabel": {
           "align": "left"
          },
          "hovermode": "closest",
          "mapbox": {
           "style": "light"
          },
          "paper_bgcolor": "white",
          "plot_bgcolor": "#E5ECF6",
          "polar": {
           "angularaxis": {
            "gridcolor": "white",
            "linecolor": "white",
            "ticks": ""
           },
           "bgcolor": "#E5ECF6",
           "radialaxis": {
            "gridcolor": "white",
            "linecolor": "white",
            "ticks": ""
           }
          },
          "scene": {
           "xaxis": {
            "backgroundcolor": "#E5ECF6",
            "gridcolor": "white",
            "gridwidth": 2,
            "linecolor": "white",
            "showbackground": true,
            "ticks": "",
            "zerolinecolor": "white"
           },
           "yaxis": {
            "backgroundcolor": "#E5ECF6",
            "gridcolor": "white",
            "gridwidth": 2,
            "linecolor": "white",
            "showbackground": true,
            "ticks": "",
            "zerolinecolor": "white"
           },
           "zaxis": {
            "backgroundcolor": "#E5ECF6",
            "gridcolor": "white",
            "gridwidth": 2,
            "linecolor": "white",
            "showbackground": true,
            "ticks": "",
            "zerolinecolor": "white"
           }
          },
          "shapedefaults": {
           "line": {
            "color": "#2a3f5f"
           }
          },
          "ternary": {
           "aaxis": {
            "gridcolor": "white",
            "linecolor": "white",
            "ticks": ""
           },
           "baxis": {
            "gridcolor": "white",
            "linecolor": "white",
            "ticks": ""
           },
           "bgcolor": "#E5ECF6",
           "caxis": {
            "gridcolor": "white",
            "linecolor": "white",
            "ticks": ""
           }
          },
          "title": {
           "x": 0.05
          },
          "xaxis": {
           "automargin": true,
           "gridcolor": "white",
           "linecolor": "white",
           "ticks": "",
           "title": {
            "standoff": 15
           },
           "zerolinecolor": "white",
           "zerolinewidth": 2
          },
          "yaxis": {
           "automargin": true,
           "gridcolor": "white",
           "linecolor": "white",
           "ticks": "",
           "title": {
            "standoff": 15
           },
           "zerolinecolor": "white",
           "zerolinewidth": 2
          }
         }
        },
        "title": {
         "font": {
          "size": 24
         },
         "text": "Environmental Impact by Diet Group"
        },
        "width": 1200
       }
      }
     },
     "metadata": {},
     "output_type": "display_data"
    }
   ],
   "source": [
    "# creates the treemap\n",
    "# hierarchy: diet group -> age group -> sex\n",
    "# area: total impact (absolute value), larger rectangles mean more difference (positive or negative) from mean\n",
    "# colour: total impact, dark green less impact than mean, dark red more impact than mean\n",
    "fig = px.treemap(data_frame=treemap_df, path=[px.Constant('All Groups'), 'diet_group', 'age_group', 'sex'], values='total_impact_abs', color='total_impact',\n",
    "           color_continuous_scale=['darkgreen', 'white', '#bb0000']\n",
    ")\n",
    "\n",
    "fig.update_layout(\n",
    "    title=\"Environmental Impact by Diet Group\",\n",
    "    title_font_size=24,\n",
    "    coloraxis_colorbar=dict(  # the legend scale bar\n",
    "        title=\"Difference From Mean Environmental Impact\",\n",
    "        title_font_size=16,\n",
    "        tickfont_size=12,\n",
    "        orientation=\"h\",\n",
    "        xanchor=\"center\", \n",
    "        x=0.5,\n",
    "        y=-0.15,\n",
    "        title_side=\"bottom\"\n",
    "    ),\n",
    "    width=1200,\n",
    "    height=1000 \n",
    ")\n",
    "\n",
    "# show group and total impact on hovering over rectangles (groupings)\n",
    "fig.update_traces(hovertemplate='Group = %{label}<br>Total Impact = %{color}<extra></extra>')\n",
    "\n",
    "fig.show()"
   ]
  }
 ],
 "metadata": {
  "kernelspec": {
   "display_name": "Python 3",
   "language": "python",
   "name": "python3"
  },
  "language_info": {
   "codemirror_mode": {
    "name": "ipython",
    "version": 3
   },
   "file_extension": ".py",
   "mimetype": "text/x-python",
   "name": "python",
   "nbconvert_exporter": "python",
   "pygments_lexer": "ipython3",
   "version": "3.11.9"
  }
 },
 "nbformat": 4,
 "nbformat_minor": 2
}
