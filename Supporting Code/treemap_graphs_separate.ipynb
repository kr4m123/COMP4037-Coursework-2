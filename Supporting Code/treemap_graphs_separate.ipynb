{
 "cells": [
  {
   "cell_type": "code",
   "execution_count": 114,
   "metadata": {},
   "outputs": [],
   "source": [
    "import pandas as pd\n",
    "import plotly.express as px\n",
    "import kaleido\n",
    "\n",
    "# set the displayed rows to 500\n",
    "pd.set_option('display.max_rows', 500)"
   ]
  },
  {
   "cell_type": "code",
   "execution_count": 115,
   "metadata": {},
   "outputs": [],
   "source": [
    "df = pd.read_csv('Results_21Mar2022.csv')"
   ]
  },
  {
   "cell_type": "code",
   "execution_count": 116,
   "metadata": {},
   "outputs": [
    {
     "data": {
      "text/html": [
       "<div>\n",
       "<style scoped>\n",
       "    .dataframe tbody tr th:only-of-type {\n",
       "        vertical-align: middle;\n",
       "    }\n",
       "\n",
       "    .dataframe tbody tr th {\n",
       "        vertical-align: top;\n",
       "    }\n",
       "\n",
       "    .dataframe thead th {\n",
       "        text-align: right;\n",
       "    }\n",
       "</style>\n",
       "<table border=\"1\" class=\"dataframe\">\n",
       "  <thead>\n",
       "    <tr style=\"text-align: right;\">\n",
       "      <th></th>\n",
       "      <th>mc_run_id</th>\n",
       "      <th>grouping</th>\n",
       "      <th>mean_ghgs</th>\n",
       "      <th>mean_land</th>\n",
       "      <th>mean_watscar</th>\n",
       "      <th>mean_eut</th>\n",
       "      <th>mean_ghgs_ch4</th>\n",
       "      <th>mean_ghgs_n2o</th>\n",
       "      <th>mean_bio</th>\n",
       "      <th>mean_watuse</th>\n",
       "      <th>...</th>\n",
       "      <th>sd_eut</th>\n",
       "      <th>sd_ghgs_ch4</th>\n",
       "      <th>sd_ghgs_n2o</th>\n",
       "      <th>sd_bio</th>\n",
       "      <th>sd_watuse</th>\n",
       "      <th>sd_acid</th>\n",
       "      <th>n_participants</th>\n",
       "      <th>sex</th>\n",
       "      <th>diet_group</th>\n",
       "      <th>age_group</th>\n",
       "    </tr>\n",
       "  </thead>\n",
       "  <tbody>\n",
       "    <tr>\n",
       "      <th>0</th>\n",
       "      <td>1</td>\n",
       "      <td>fish_female_20-29</td>\n",
       "      <td>5.421821</td>\n",
       "      <td>8.612772</td>\n",
       "      <td>14165.86240</td>\n",
       "      <td>23.945372</td>\n",
       "      <td>1.164643</td>\n",
       "      <td>0.343663</td>\n",
       "      <td>476.270413</td>\n",
       "      <td>679.923479</td>\n",
       "      <td>...</td>\n",
       "      <td>8.167013</td>\n",
       "      <td>0.632547</td>\n",
       "      <td>0.146827</td>\n",
       "      <td>283.883428</td>\n",
       "      <td>249.472563</td>\n",
       "      <td>8.231176</td>\n",
       "      <td>1329</td>\n",
       "      <td>female</td>\n",
       "      <td>fish</td>\n",
       "      <td>20-29</td>\n",
       "    </tr>\n",
       "    <tr>\n",
       "      <th>1</th>\n",
       "      <td>1</td>\n",
       "      <td>fish_female_30-39</td>\n",
       "      <td>5.436673</td>\n",
       "      <td>8.680248</td>\n",
       "      <td>15222.77063</td>\n",
       "      <td>24.305262</td>\n",
       "      <td>1.154118</td>\n",
       "      <td>0.326868</td>\n",
       "      <td>467.923201</td>\n",
       "      <td>709.343785</td>\n",
       "      <td>...</td>\n",
       "      <td>8.467858</td>\n",
       "      <td>0.601941</td>\n",
       "      <td>0.130298</td>\n",
       "      <td>270.247108</td>\n",
       "      <td>277.927269</td>\n",
       "      <td>7.947014</td>\n",
       "      <td>2024</td>\n",
       "      <td>female</td>\n",
       "      <td>fish</td>\n",
       "      <td>30-39</td>\n",
       "    </tr>\n",
       "    <tr>\n",
       "      <th>2</th>\n",
       "      <td>1</td>\n",
       "      <td>fish_female_40-49</td>\n",
       "      <td>5.289333</td>\n",
       "      <td>8.467723</td>\n",
       "      <td>15818.80068</td>\n",
       "      <td>24.191105</td>\n",
       "      <td>1.108404</td>\n",
       "      <td>0.310324</td>\n",
       "      <td>438.659832</td>\n",
       "      <td>707.925368</td>\n",
       "      <td>...</td>\n",
       "      <td>8.107006</td>\n",
       "      <td>0.572941</td>\n",
       "      <td>0.119872</td>\n",
       "      <td>252.415063</td>\n",
       "      <td>275.760515</td>\n",
       "      <td>8.103589</td>\n",
       "      <td>1689</td>\n",
       "      <td>female</td>\n",
       "      <td>fish</td>\n",
       "      <td>40-49</td>\n",
       "    </tr>\n",
       "    <tr>\n",
       "      <th>3</th>\n",
       "      <td>1</td>\n",
       "      <td>fish_female_50-59</td>\n",
       "      <td>5.169020</td>\n",
       "      <td>8.219199</td>\n",
       "      <td>16962.06009</td>\n",
       "      <td>24.748154</td>\n",
       "      <td>1.032501</td>\n",
       "      <td>0.298130</td>\n",
       "      <td>395.787622</td>\n",
       "      <td>720.825105</td>\n",
       "      <td>...</td>\n",
       "      <td>9.514028</td>\n",
       "      <td>0.509689</td>\n",
       "      <td>0.104731</td>\n",
       "      <td>209.566722</td>\n",
       "      <td>310.422445</td>\n",
       "      <td>8.712428</td>\n",
       "      <td>946</td>\n",
       "      <td>female</td>\n",
       "      <td>fish</td>\n",
       "      <td>50-59</td>\n",
       "    </tr>\n",
       "    <tr>\n",
       "      <th>4</th>\n",
       "      <td>1</td>\n",
       "      <td>fish_female_60-69</td>\n",
       "      <td>5.380268</td>\n",
       "      <td>8.570718</td>\n",
       "      <td>18212.66232</td>\n",
       "      <td>25.559430</td>\n",
       "      <td>1.098828</td>\n",
       "      <td>0.310735</td>\n",
       "      <td>421.176867</td>\n",
       "      <td>749.392826</td>\n",
       "      <td>...</td>\n",
       "      <td>9.258068</td>\n",
       "      <td>0.609398</td>\n",
       "      <td>0.113401</td>\n",
       "      <td>264.599257</td>\n",
       "      <td>315.922570</td>\n",
       "      <td>8.616601</td>\n",
       "      <td>492</td>\n",
       "      <td>female</td>\n",
       "      <td>fish</td>\n",
       "      <td>60-69</td>\n",
       "    </tr>\n",
       "  </tbody>\n",
       "</table>\n",
       "<p>5 rows × 24 columns</p>\n",
       "</div>"
      ],
      "text/plain": [
       "   mc_run_id           grouping  mean_ghgs  mean_land  mean_watscar  \\\n",
       "0          1  fish_female_20-29   5.421821   8.612772   14165.86240   \n",
       "1          1  fish_female_30-39   5.436673   8.680248   15222.77063   \n",
       "2          1  fish_female_40-49   5.289333   8.467723   15818.80068   \n",
       "3          1  fish_female_50-59   5.169020   8.219199   16962.06009   \n",
       "4          1  fish_female_60-69   5.380268   8.570718   18212.66232   \n",
       "\n",
       "    mean_eut  mean_ghgs_ch4  mean_ghgs_n2o    mean_bio  mean_watuse  ...  \\\n",
       "0  23.945372       1.164643       0.343663  476.270413   679.923479  ...   \n",
       "1  24.305262       1.154118       0.326868  467.923201   709.343785  ...   \n",
       "2  24.191105       1.108404       0.310324  438.659832   707.925368  ...   \n",
       "3  24.748154       1.032501       0.298130  395.787622   720.825105  ...   \n",
       "4  25.559430       1.098828       0.310735  421.176867   749.392826  ...   \n",
       "\n",
       "     sd_eut  sd_ghgs_ch4  sd_ghgs_n2o      sd_bio   sd_watuse   sd_acid  \\\n",
       "0  8.167013     0.632547     0.146827  283.883428  249.472563  8.231176   \n",
       "1  8.467858     0.601941     0.130298  270.247108  277.927269  7.947014   \n",
       "2  8.107006     0.572941     0.119872  252.415063  275.760515  8.103589   \n",
       "3  9.514028     0.509689     0.104731  209.566722  310.422445  8.712428   \n",
       "4  9.258068     0.609398     0.113401  264.599257  315.922570  8.616601   \n",
       "\n",
       "   n_participants     sex  diet_group  age_group  \n",
       "0            1329  female        fish      20-29  \n",
       "1            2024  female        fish      30-39  \n",
       "2            1689  female        fish      40-49  \n",
       "3             946  female        fish      50-59  \n",
       "4             492  female        fish      60-69  \n",
       "\n",
       "[5 rows x 24 columns]"
      ]
     },
     "execution_count": 116,
     "metadata": {},
     "output_type": "execute_result"
    }
   ],
   "source": [
    "df.head()"
   ]
  },
  {
   "cell_type": "code",
   "execution_count": 117,
   "metadata": {},
   "outputs": [],
   "source": [
    "# aggregate the measures in each monte carlo run by taking the mean\n",
    "# means are taken first before standardising, want to take average of all monte carlo runs, don't care about variability between monte carlo runs\n",
    "agg_df = df.groupby(['diet_group', 'age_group', 'sex']).agg(\n",
    "    {'mean_ghgs': ['mean'], \n",
    "     'mean_land': ['mean'],\n",
    "     'mean_watscar': ['mean'],\n",
    "     'mean_eut': ['mean'],\n",
    "     'mean_ghgs_ch4': ['mean'],\n",
    "     'mean_ghgs_n2o': ['mean'],\n",
    "     'mean_bio': ['mean'],\n",
    "     'mean_watuse': ['mean'],\n",
    "     'mean_acid': ['mean']})"
   ]
  },
  {
   "cell_type": "code",
   "execution_count": 118,
   "metadata": {},
   "outputs": [],
   "source": [
    "measures = ['mean_ghgs', 'mean_land', 'mean_watscar', 'mean_eut', 'mean_ghgs_ch4', 'mean_ghgs_n2o', 'mean_bio', 'mean_watuse', 'mean_acid']\n",
    "\n",
    "# calculate Z scores for each measure\n",
    "for measure in measures:\n",
    "    agg_df[\"z_\" + measure] = (agg_df[measure] - agg_df[measure].mean()) / agg_df[measure].std()\n",
    "\n",
    "    # global_mean = df[measure].mean()\n",
    "    # global_std = df[measure].std()\n",
    "    # agg_df[\"z_\" + measure] = (agg_df[measure] - global_mean) / global_std"
   ]
  },
  {
   "cell_type": "code",
   "execution_count": 119,
   "metadata": {},
   "outputs": [],
   "source": [
    "# get column names of all the Z values\n",
    "cols = list((c[0] for c in list(agg_df.columns.values)[9:]))\n",
    "\n",
    "# make a copy of the dataframe to append the total impact to\n",
    "total_impact_df = agg_df.copy()\n",
    "\n",
    "# sum the Z scores of each measure and append it to total_impact_df\n",
    "total_impact_df['total_impact'] = total_impact_df[cols].sum(axis=1, numeric_only=True)\n",
    "\n",
    "# resetting the index to remove the unnecessary groupings\n",
    "total_impact_df.reset_index(inplace=True)\n",
    "# also need to remove the second level of the multindex created by the groupby\n",
    "total_impact_df.columns = total_impact_df.columns.droplevel(1)\n"
   ]
  },
  {
   "cell_type": "code",
   "execution_count": 120,
   "metadata": {},
   "outputs": [
    {
     "data": {
      "text/html": [
       "<div>\n",
       "<style scoped>\n",
       "    .dataframe tbody tr th:only-of-type {\n",
       "        vertical-align: middle;\n",
       "    }\n",
       "\n",
       "    .dataframe tbody tr th {\n",
       "        vertical-align: top;\n",
       "    }\n",
       "\n",
       "    .dataframe thead th {\n",
       "        text-align: right;\n",
       "    }\n",
       "</style>\n",
       "<table border=\"1\" class=\"dataframe\">\n",
       "  <thead>\n",
       "    <tr style=\"text-align: right;\">\n",
       "      <th></th>\n",
       "      <th>diet_group</th>\n",
       "      <th>age_group</th>\n",
       "      <th>sex</th>\n",
       "      <th>mean_ghgs</th>\n",
       "      <th>mean_land</th>\n",
       "      <th>mean_watscar</th>\n",
       "      <th>mean_eut</th>\n",
       "      <th>mean_ghgs_ch4</th>\n",
       "      <th>mean_ghgs_n2o</th>\n",
       "      <th>mean_bio</th>\n",
       "      <th>...</th>\n",
       "      <th>z_mean_ghgs</th>\n",
       "      <th>z_mean_land</th>\n",
       "      <th>z_mean_watscar</th>\n",
       "      <th>z_mean_eut</th>\n",
       "      <th>z_mean_ghgs_ch4</th>\n",
       "      <th>z_mean_ghgs_n2o</th>\n",
       "      <th>z_mean_bio</th>\n",
       "      <th>z_mean_watuse</th>\n",
       "      <th>z_mean_acid</th>\n",
       "      <th>total_impact</th>\n",
       "    </tr>\n",
       "  </thead>\n",
       "  <tbody>\n",
       "    <tr>\n",
       "      <th>0</th>\n",
       "      <td>fish</td>\n",
       "      <td>20-29</td>\n",
       "      <td>female</td>\n",
       "      <td>4.902947</td>\n",
       "      <td>6.489031</td>\n",
       "      <td>17131.963352</td>\n",
       "      <td>20.985464</td>\n",
       "      <td>0.842864</td>\n",
       "      <td>0.322486</td>\n",
       "      <td>248.135212</td>\n",
       "      <td>...</td>\n",
       "      <td>-0.452240</td>\n",
       "      <td>-0.619829</td>\n",
       "      <td>-0.495698</td>\n",
       "      <td>-0.366700</td>\n",
       "      <td>-0.410964</td>\n",
       "      <td>-0.561071</td>\n",
       "      <td>-0.295870</td>\n",
       "      <td>0.107994</td>\n",
       "      <td>-0.433417</td>\n",
       "      <td>-3.527796</td>\n",
       "    </tr>\n",
       "    <tr>\n",
       "      <th>1</th>\n",
       "      <td>fish</td>\n",
       "      <td>20-29</td>\n",
       "      <td>male</td>\n",
       "      <td>5.659689</td>\n",
       "      <td>7.381889</td>\n",
       "      <td>19671.024654</td>\n",
       "      <td>24.162964</td>\n",
       "      <td>0.925972</td>\n",
       "      <td>0.366329</td>\n",
       "      <td>273.612309</td>\n",
       "      <td>...</td>\n",
       "      <td>-0.182900</td>\n",
       "      <td>-0.485563</td>\n",
       "      <td>0.559703</td>\n",
       "      <td>-0.046060</td>\n",
       "      <td>-0.295207</td>\n",
       "      <td>-0.346789</td>\n",
       "      <td>-0.012048</td>\n",
       "      <td>0.670751</td>\n",
       "      <td>-0.133587</td>\n",
       "      <td>-0.271700</td>\n",
       "    </tr>\n",
       "    <tr>\n",
       "      <th>2</th>\n",
       "      <td>fish</td>\n",
       "      <td>30-39</td>\n",
       "      <td>female</td>\n",
       "      <td>4.942664</td>\n",
       "      <td>6.515886</td>\n",
       "      <td>17652.628540</td>\n",
       "      <td>20.948442</td>\n",
       "      <td>0.836500</td>\n",
       "      <td>0.321971</td>\n",
       "      <td>249.827684</td>\n",
       "      <td>...</td>\n",
       "      <td>-0.438104</td>\n",
       "      <td>-0.615790</td>\n",
       "      <td>-0.279275</td>\n",
       "      <td>-0.370436</td>\n",
       "      <td>-0.419827</td>\n",
       "      <td>-0.563590</td>\n",
       "      <td>-0.277015</td>\n",
       "      <td>0.110164</td>\n",
       "      <td>-0.389292</td>\n",
       "      <td>-3.243166</td>\n",
       "    </tr>\n",
       "    <tr>\n",
       "      <th>3</th>\n",
       "      <td>fish</td>\n",
       "      <td>30-39</td>\n",
       "      <td>male</td>\n",
       "      <td>5.327206</td>\n",
       "      <td>6.977106</td>\n",
       "      <td>18953.095158</td>\n",
       "      <td>22.644064</td>\n",
       "      <td>0.854537</td>\n",
       "      <td>0.343782</td>\n",
       "      <td>262.360838</td>\n",
       "      <td>...</td>\n",
       "      <td>-0.301238</td>\n",
       "      <td>-0.546433</td>\n",
       "      <td>0.261285</td>\n",
       "      <td>-0.199332</td>\n",
       "      <td>-0.394705</td>\n",
       "      <td>-0.456986</td>\n",
       "      <td>-0.137393</td>\n",
       "      <td>0.436964</td>\n",
       "      <td>-0.257650</td>\n",
       "      <td>-1.595487</td>\n",
       "    </tr>\n",
       "    <tr>\n",
       "      <th>4</th>\n",
       "      <td>fish</td>\n",
       "      <td>40-49</td>\n",
       "      <td>female</td>\n",
       "      <td>4.927040</td>\n",
       "      <td>6.540682</td>\n",
       "      <td>17729.964756</td>\n",
       "      <td>20.713798</td>\n",
       "      <td>0.841106</td>\n",
       "      <td>0.320413</td>\n",
       "      <td>252.846922</td>\n",
       "      <td>...</td>\n",
       "      <td>-0.443665</td>\n",
       "      <td>-0.612062</td>\n",
       "      <td>-0.247129</td>\n",
       "      <td>-0.394114</td>\n",
       "      <td>-0.413412</td>\n",
       "      <td>-0.571204</td>\n",
       "      <td>-0.243380</td>\n",
       "      <td>0.048542</td>\n",
       "      <td>-0.370041</td>\n",
       "      <td>-3.246464</td>\n",
       "    </tr>\n",
       "  </tbody>\n",
       "</table>\n",
       "<p>5 rows × 22 columns</p>\n",
       "</div>"
      ],
      "text/plain": [
       "  diet_group age_group     sex  mean_ghgs  mean_land  mean_watscar   mean_eut  \\\n",
       "0       fish     20-29  female   4.902947   6.489031  17131.963352  20.985464   \n",
       "1       fish     20-29    male   5.659689   7.381889  19671.024654  24.162964   \n",
       "2       fish     30-39  female   4.942664   6.515886  17652.628540  20.948442   \n",
       "3       fish     30-39    male   5.327206   6.977106  18953.095158  22.644064   \n",
       "4       fish     40-49  female   4.927040   6.540682  17729.964756  20.713798   \n",
       "\n",
       "   mean_ghgs_ch4  mean_ghgs_n2o    mean_bio  ...  z_mean_ghgs  z_mean_land  \\\n",
       "0       0.842864       0.322486  248.135212  ...    -0.452240    -0.619829   \n",
       "1       0.925972       0.366329  273.612309  ...    -0.182900    -0.485563   \n",
       "2       0.836500       0.321971  249.827684  ...    -0.438104    -0.615790   \n",
       "3       0.854537       0.343782  262.360838  ...    -0.301238    -0.546433   \n",
       "4       0.841106       0.320413  252.846922  ...    -0.443665    -0.612062   \n",
       "\n",
       "   z_mean_watscar  z_mean_eut  z_mean_ghgs_ch4  z_mean_ghgs_n2o  z_mean_bio  \\\n",
       "0       -0.495698   -0.366700        -0.410964        -0.561071   -0.295870   \n",
       "1        0.559703   -0.046060        -0.295207        -0.346789   -0.012048   \n",
       "2       -0.279275   -0.370436        -0.419827        -0.563590   -0.277015   \n",
       "3        0.261285   -0.199332        -0.394705        -0.456986   -0.137393   \n",
       "4       -0.247129   -0.394114        -0.413412        -0.571204   -0.243380   \n",
       "\n",
       "   z_mean_watuse  z_mean_acid  total_impact  \n",
       "0       0.107994    -0.433417     -3.527796  \n",
       "1       0.670751    -0.133587     -0.271700  \n",
       "2       0.110164    -0.389292     -3.243166  \n",
       "3       0.436964    -0.257650     -1.595487  \n",
       "4       0.048542    -0.370041     -3.246464  \n",
       "\n",
       "[5 rows x 22 columns]"
      ]
     },
     "execution_count": 120,
     "metadata": {},
     "output_type": "execute_result"
    }
   ],
   "source": [
    "total_impact_df.head()"
   ]
  },
  {
   "cell_type": "code",
   "execution_count": 121,
   "metadata": {},
   "outputs": [],
   "source": [
    "# select columns used for the treemap\n",
    "treemap_df = total_impact_df[['diet_group', 'age_group', 'sex', 'total_impact']].copy()\n",
    "\n",
    "# make all total impact values positive and save it to another column (Z scores can be negative)]\n",
    "# this is used for treemap area (area can't be negative)\n",
    "treemap_df.loc[:, 'total_impact_abs'] = treemap_df['total_impact'].abs()"
   ]
  },
  {
   "cell_type": "code",
   "execution_count": 122,
   "metadata": {},
   "outputs": [],
   "source": [
    "# renames the diet groups and sexes to more representative values\n",
    "treemap_df['diet_group'] = treemap_df['diet_group'].replace({\n",
    "    'meat100': 'High Meat', \n",
    "    'meat': 'Medium Meat', \n",
    "    'meat50': 'Low Meat',\n",
    "    'vegan': 'Vegan',\n",
    "    'veggie': 'Vegetarian',\n",
    "    'fish': 'Fish'})\n",
    "treemap_df['sex'] = treemap_df['sex'].replace({'male': 'Male', 'female': 'Female'})"
   ]
  },
  {
   "cell_type": "code",
   "execution_count": 123,
   "metadata": {},
   "outputs": [
    {
     "data": {
      "text/html": [
       "<div>\n",
       "<style scoped>\n",
       "    .dataframe tbody tr th:only-of-type {\n",
       "        vertical-align: middle;\n",
       "    }\n",
       "\n",
       "    .dataframe tbody tr th {\n",
       "        vertical-align: top;\n",
       "    }\n",
       "\n",
       "    .dataframe thead th {\n",
       "        text-align: right;\n",
       "    }\n",
       "</style>\n",
       "<table border=\"1\" class=\"dataframe\">\n",
       "  <thead>\n",
       "    <tr style=\"text-align: right;\">\n",
       "      <th></th>\n",
       "      <th>diet_group</th>\n",
       "      <th>age_group</th>\n",
       "      <th>sex</th>\n",
       "      <th>total_impact</th>\n",
       "      <th>total_impact_abs</th>\n",
       "    </tr>\n",
       "  </thead>\n",
       "  <tbody>\n",
       "    <tr>\n",
       "      <th>0</th>\n",
       "      <td>Fish</td>\n",
       "      <td>20-29</td>\n",
       "      <td>Female</td>\n",
       "      <td>-3.527796</td>\n",
       "      <td>3.527796</td>\n",
       "    </tr>\n",
       "    <tr>\n",
       "      <th>1</th>\n",
       "      <td>Fish</td>\n",
       "      <td>20-29</td>\n",
       "      <td>Male</td>\n",
       "      <td>-0.271700</td>\n",
       "      <td>0.271700</td>\n",
       "    </tr>\n",
       "    <tr>\n",
       "      <th>2</th>\n",
       "      <td>Fish</td>\n",
       "      <td>30-39</td>\n",
       "      <td>Female</td>\n",
       "      <td>-3.243166</td>\n",
       "      <td>3.243166</td>\n",
       "    </tr>\n",
       "    <tr>\n",
       "      <th>3</th>\n",
       "      <td>Fish</td>\n",
       "      <td>30-39</td>\n",
       "      <td>Male</td>\n",
       "      <td>-1.595487</td>\n",
       "      <td>1.595487</td>\n",
       "    </tr>\n",
       "    <tr>\n",
       "      <th>4</th>\n",
       "      <td>Fish</td>\n",
       "      <td>40-49</td>\n",
       "      <td>Female</td>\n",
       "      <td>-3.246464</td>\n",
       "      <td>3.246464</td>\n",
       "    </tr>\n",
       "    <tr>\n",
       "      <th>5</th>\n",
       "      <td>Fish</td>\n",
       "      <td>40-49</td>\n",
       "      <td>Male</td>\n",
       "      <td>-2.383545</td>\n",
       "      <td>2.383545</td>\n",
       "    </tr>\n",
       "    <tr>\n",
       "      <th>6</th>\n",
       "      <td>Fish</td>\n",
       "      <td>50-59</td>\n",
       "      <td>Female</td>\n",
       "      <td>-2.729887</td>\n",
       "      <td>2.729887</td>\n",
       "    </tr>\n",
       "    <tr>\n",
       "      <th>7</th>\n",
       "      <td>Fish</td>\n",
       "      <td>50-59</td>\n",
       "      <td>Male</td>\n",
       "      <td>-2.412383</td>\n",
       "      <td>2.412383</td>\n",
       "    </tr>\n",
       "    <tr>\n",
       "      <th>8</th>\n",
       "      <td>Fish</td>\n",
       "      <td>60-69</td>\n",
       "      <td>Female</td>\n",
       "      <td>-1.873912</td>\n",
       "      <td>1.873912</td>\n",
       "    </tr>\n",
       "    <tr>\n",
       "      <th>9</th>\n",
       "      <td>Fish</td>\n",
       "      <td>60-69</td>\n",
       "      <td>Male</td>\n",
       "      <td>-2.016391</td>\n",
       "      <td>2.016391</td>\n",
       "    </tr>\n",
       "    <tr>\n",
       "      <th>10</th>\n",
       "      <td>Fish</td>\n",
       "      <td>70-79</td>\n",
       "      <td>Female</td>\n",
       "      <td>-2.131654</td>\n",
       "      <td>2.131654</td>\n",
       "    </tr>\n",
       "    <tr>\n",
       "      <th>11</th>\n",
       "      <td>Fish</td>\n",
       "      <td>70-79</td>\n",
       "      <td>Male</td>\n",
       "      <td>-0.801957</td>\n",
       "      <td>0.801957</td>\n",
       "    </tr>\n",
       "    <tr>\n",
       "      <th>12</th>\n",
       "      <td>Medium Meat</td>\n",
       "      <td>20-29</td>\n",
       "      <td>Female</td>\n",
       "      <td>2.899634</td>\n",
       "      <td>2.899634</td>\n",
       "    </tr>\n",
       "    <tr>\n",
       "      <th>13</th>\n",
       "      <td>Medium Meat</td>\n",
       "      <td>20-29</td>\n",
       "      <td>Male</td>\n",
       "      <td>4.821383</td>\n",
       "      <td>4.821383</td>\n",
       "    </tr>\n",
       "    <tr>\n",
       "      <th>14</th>\n",
       "      <td>Medium Meat</td>\n",
       "      <td>30-39</td>\n",
       "      <td>Female</td>\n",
       "      <td>3.329869</td>\n",
       "      <td>3.329869</td>\n",
       "    </tr>\n",
       "    <tr>\n",
       "      <th>15</th>\n",
       "      <td>Medium Meat</td>\n",
       "      <td>30-39</td>\n",
       "      <td>Male</td>\n",
       "      <td>5.394908</td>\n",
       "      <td>5.394908</td>\n",
       "    </tr>\n",
       "    <tr>\n",
       "      <th>16</th>\n",
       "      <td>Medium Meat</td>\n",
       "      <td>40-49</td>\n",
       "      <td>Female</td>\n",
       "      <td>4.044638</td>\n",
       "      <td>4.044638</td>\n",
       "    </tr>\n",
       "    <tr>\n",
       "      <th>17</th>\n",
       "      <td>Medium Meat</td>\n",
       "      <td>40-49</td>\n",
       "      <td>Male</td>\n",
       "      <td>4.874766</td>\n",
       "      <td>4.874766</td>\n",
       "    </tr>\n",
       "    <tr>\n",
       "      <th>18</th>\n",
       "      <td>Medium Meat</td>\n",
       "      <td>50-59</td>\n",
       "      <td>Female</td>\n",
       "      <td>4.349408</td>\n",
       "      <td>4.349408</td>\n",
       "    </tr>\n",
       "    <tr>\n",
       "      <th>19</th>\n",
       "      <td>Medium Meat</td>\n",
       "      <td>50-59</td>\n",
       "      <td>Male</td>\n",
       "      <td>4.769660</td>\n",
       "      <td>4.769660</td>\n",
       "    </tr>\n",
       "    <tr>\n",
       "      <th>20</th>\n",
       "      <td>Medium Meat</td>\n",
       "      <td>60-69</td>\n",
       "      <td>Female</td>\n",
       "      <td>4.720606</td>\n",
       "      <td>4.720606</td>\n",
       "    </tr>\n",
       "    <tr>\n",
       "      <th>21</th>\n",
       "      <td>Medium Meat</td>\n",
       "      <td>60-69</td>\n",
       "      <td>Male</td>\n",
       "      <td>5.109208</td>\n",
       "      <td>5.109208</td>\n",
       "    </tr>\n",
       "    <tr>\n",
       "      <th>22</th>\n",
       "      <td>Medium Meat</td>\n",
       "      <td>70-79</td>\n",
       "      <td>Female</td>\n",
       "      <td>5.119887</td>\n",
       "      <td>5.119887</td>\n",
       "    </tr>\n",
       "    <tr>\n",
       "      <th>23</th>\n",
       "      <td>Medium Meat</td>\n",
       "      <td>70-79</td>\n",
       "      <td>Male</td>\n",
       "      <td>5.680815</td>\n",
       "      <td>5.680815</td>\n",
       "    </tr>\n",
       "    <tr>\n",
       "      <th>24</th>\n",
       "      <td>High Meat</td>\n",
       "      <td>20-29</td>\n",
       "      <td>Female</td>\n",
       "      <td>12.997599</td>\n",
       "      <td>12.997599</td>\n",
       "    </tr>\n",
       "    <tr>\n",
       "      <th>25</th>\n",
       "      <td>High Meat</td>\n",
       "      <td>20-29</td>\n",
       "      <td>Male</td>\n",
       "      <td>19.605571</td>\n",
       "      <td>19.605571</td>\n",
       "    </tr>\n",
       "    <tr>\n",
       "      <th>26</th>\n",
       "      <td>High Meat</td>\n",
       "      <td>30-39</td>\n",
       "      <td>Female</td>\n",
       "      <td>13.265341</td>\n",
       "      <td>13.265341</td>\n",
       "    </tr>\n",
       "    <tr>\n",
       "      <th>27</th>\n",
       "      <td>High Meat</td>\n",
       "      <td>30-39</td>\n",
       "      <td>Male</td>\n",
       "      <td>16.102997</td>\n",
       "      <td>16.102997</td>\n",
       "    </tr>\n",
       "    <tr>\n",
       "      <th>28</th>\n",
       "      <td>High Meat</td>\n",
       "      <td>40-49</td>\n",
       "      <td>Female</td>\n",
       "      <td>14.738421</td>\n",
       "      <td>14.738421</td>\n",
       "    </tr>\n",
       "    <tr>\n",
       "      <th>29</th>\n",
       "      <td>High Meat</td>\n",
       "      <td>40-49</td>\n",
       "      <td>Male</td>\n",
       "      <td>15.559311</td>\n",
       "      <td>15.559311</td>\n",
       "    </tr>\n",
       "    <tr>\n",
       "      <th>30</th>\n",
       "      <td>High Meat</td>\n",
       "      <td>50-59</td>\n",
       "      <td>Female</td>\n",
       "      <td>15.586643</td>\n",
       "      <td>15.586643</td>\n",
       "    </tr>\n",
       "    <tr>\n",
       "      <th>31</th>\n",
       "      <td>High Meat</td>\n",
       "      <td>50-59</td>\n",
       "      <td>Male</td>\n",
       "      <td>15.997888</td>\n",
       "      <td>15.997888</td>\n",
       "    </tr>\n",
       "    <tr>\n",
       "      <th>32</th>\n",
       "      <td>High Meat</td>\n",
       "      <td>60-69</td>\n",
       "      <td>Female</td>\n",
       "      <td>15.583598</td>\n",
       "      <td>15.583598</td>\n",
       "    </tr>\n",
       "    <tr>\n",
       "      <th>33</th>\n",
       "      <td>High Meat</td>\n",
       "      <td>60-69</td>\n",
       "      <td>Male</td>\n",
       "      <td>15.762898</td>\n",
       "      <td>15.762898</td>\n",
       "    </tr>\n",
       "    <tr>\n",
       "      <th>34</th>\n",
       "      <td>High Meat</td>\n",
       "      <td>70-79</td>\n",
       "      <td>Female</td>\n",
       "      <td>16.949981</td>\n",
       "      <td>16.949981</td>\n",
       "    </tr>\n",
       "    <tr>\n",
       "      <th>35</th>\n",
       "      <td>High Meat</td>\n",
       "      <td>70-79</td>\n",
       "      <td>Male</td>\n",
       "      <td>17.853675</td>\n",
       "      <td>17.853675</td>\n",
       "    </tr>\n",
       "    <tr>\n",
       "      <th>36</th>\n",
       "      <td>Low Meat</td>\n",
       "      <td>20-29</td>\n",
       "      <td>Female</td>\n",
       "      <td>-2.279516</td>\n",
       "      <td>2.279516</td>\n",
       "    </tr>\n",
       "    <tr>\n",
       "      <th>37</th>\n",
       "      <td>Low Meat</td>\n",
       "      <td>20-29</td>\n",
       "      <td>Male</td>\n",
       "      <td>-0.951791</td>\n",
       "      <td>0.951791</td>\n",
       "    </tr>\n",
       "    <tr>\n",
       "      <th>38</th>\n",
       "      <td>Low Meat</td>\n",
       "      <td>30-39</td>\n",
       "      <td>Female</td>\n",
       "      <td>-1.811943</td>\n",
       "      <td>1.811943</td>\n",
       "    </tr>\n",
       "    <tr>\n",
       "      <th>39</th>\n",
       "      <td>Low Meat</td>\n",
       "      <td>30-39</td>\n",
       "      <td>Male</td>\n",
       "      <td>0.023278</td>\n",
       "      <td>0.023278</td>\n",
       "    </tr>\n",
       "    <tr>\n",
       "      <th>40</th>\n",
       "      <td>Low Meat</td>\n",
       "      <td>40-49</td>\n",
       "      <td>Female</td>\n",
       "      <td>-1.584791</td>\n",
       "      <td>1.584791</td>\n",
       "    </tr>\n",
       "    <tr>\n",
       "      <th>41</th>\n",
       "      <td>Low Meat</td>\n",
       "      <td>40-49</td>\n",
       "      <td>Male</td>\n",
       "      <td>-0.715166</td>\n",
       "      <td>0.715166</td>\n",
       "    </tr>\n",
       "    <tr>\n",
       "      <th>42</th>\n",
       "      <td>Low Meat</td>\n",
       "      <td>50-59</td>\n",
       "      <td>Female</td>\n",
       "      <td>-0.915299</td>\n",
       "      <td>0.915299</td>\n",
       "    </tr>\n",
       "    <tr>\n",
       "      <th>43</th>\n",
       "      <td>Low Meat</td>\n",
       "      <td>50-59</td>\n",
       "      <td>Male</td>\n",
       "      <td>-0.535971</td>\n",
       "      <td>0.535971</td>\n",
       "    </tr>\n",
       "    <tr>\n",
       "      <th>44</th>\n",
       "      <td>Low Meat</td>\n",
       "      <td>60-69</td>\n",
       "      <td>Female</td>\n",
       "      <td>-0.362697</td>\n",
       "      <td>0.362697</td>\n",
       "    </tr>\n",
       "    <tr>\n",
       "      <th>45</th>\n",
       "      <td>Low Meat</td>\n",
       "      <td>60-69</td>\n",
       "      <td>Male</td>\n",
       "      <td>-0.454079</td>\n",
       "      <td>0.454079</td>\n",
       "    </tr>\n",
       "    <tr>\n",
       "      <th>46</th>\n",
       "      <td>Low Meat</td>\n",
       "      <td>70-79</td>\n",
       "      <td>Female</td>\n",
       "      <td>-0.355591</td>\n",
       "      <td>0.355591</td>\n",
       "    </tr>\n",
       "    <tr>\n",
       "      <th>47</th>\n",
       "      <td>Low Meat</td>\n",
       "      <td>70-79</td>\n",
       "      <td>Male</td>\n",
       "      <td>0.557166</td>\n",
       "      <td>0.557166</td>\n",
       "    </tr>\n",
       "    <tr>\n",
       "      <th>48</th>\n",
       "      <td>Vegan</td>\n",
       "      <td>20-29</td>\n",
       "      <td>Female</td>\n",
       "      <td>-13.496751</td>\n",
       "      <td>13.496751</td>\n",
       "    </tr>\n",
       "    <tr>\n",
       "      <th>49</th>\n",
       "      <td>Vegan</td>\n",
       "      <td>20-29</td>\n",
       "      <td>Male</td>\n",
       "      <td>-11.040810</td>\n",
       "      <td>11.040810</td>\n",
       "    </tr>\n",
       "    <tr>\n",
       "      <th>50</th>\n",
       "      <td>Vegan</td>\n",
       "      <td>30-39</td>\n",
       "      <td>Female</td>\n",
       "      <td>-12.811188</td>\n",
       "      <td>12.811188</td>\n",
       "    </tr>\n",
       "    <tr>\n",
       "      <th>51</th>\n",
       "      <td>Vegan</td>\n",
       "      <td>30-39</td>\n",
       "      <td>Male</td>\n",
       "      <td>-11.899903</td>\n",
       "      <td>11.899903</td>\n",
       "    </tr>\n",
       "    <tr>\n",
       "      <th>52</th>\n",
       "      <td>Vegan</td>\n",
       "      <td>40-49</td>\n",
       "      <td>Female</td>\n",
       "      <td>-11.774248</td>\n",
       "      <td>11.774248</td>\n",
       "    </tr>\n",
       "    <tr>\n",
       "      <th>53</th>\n",
       "      <td>Vegan</td>\n",
       "      <td>40-49</td>\n",
       "      <td>Male</td>\n",
       "      <td>-12.000589</td>\n",
       "      <td>12.000589</td>\n",
       "    </tr>\n",
       "    <tr>\n",
       "      <th>54</th>\n",
       "      <td>Vegan</td>\n",
       "      <td>50-59</td>\n",
       "      <td>Female</td>\n",
       "      <td>-12.270778</td>\n",
       "      <td>12.270778</td>\n",
       "    </tr>\n",
       "    <tr>\n",
       "      <th>55</th>\n",
       "      <td>Vegan</td>\n",
       "      <td>50-59</td>\n",
       "      <td>Male</td>\n",
       "      <td>-12.679562</td>\n",
       "      <td>12.679562</td>\n",
       "    </tr>\n",
       "    <tr>\n",
       "      <th>56</th>\n",
       "      <td>Vegan</td>\n",
       "      <td>60-69</td>\n",
       "      <td>Female</td>\n",
       "      <td>-11.717343</td>\n",
       "      <td>11.717343</td>\n",
       "    </tr>\n",
       "    <tr>\n",
       "      <th>57</th>\n",
       "      <td>Vegan</td>\n",
       "      <td>60-69</td>\n",
       "      <td>Male</td>\n",
       "      <td>-11.338009</td>\n",
       "      <td>11.338009</td>\n",
       "    </tr>\n",
       "    <tr>\n",
       "      <th>58</th>\n",
       "      <td>Vegan</td>\n",
       "      <td>70-79</td>\n",
       "      <td>Female</td>\n",
       "      <td>-10.579020</td>\n",
       "      <td>10.579020</td>\n",
       "    </tr>\n",
       "    <tr>\n",
       "      <th>59</th>\n",
       "      <td>Vegan</td>\n",
       "      <td>70-79</td>\n",
       "      <td>Male</td>\n",
       "      <td>-11.575497</td>\n",
       "      <td>11.575497</td>\n",
       "    </tr>\n",
       "    <tr>\n",
       "      <th>60</th>\n",
       "      <td>Vegetarian</td>\n",
       "      <td>20-29</td>\n",
       "      <td>Female</td>\n",
       "      <td>-6.698610</td>\n",
       "      <td>6.698610</td>\n",
       "    </tr>\n",
       "    <tr>\n",
       "      <th>61</th>\n",
       "      <td>Vegetarian</td>\n",
       "      <td>20-29</td>\n",
       "      <td>Male</td>\n",
       "      <td>-4.325935</td>\n",
       "      <td>4.325935</td>\n",
       "    </tr>\n",
       "    <tr>\n",
       "      <th>62</th>\n",
       "      <td>Vegetarian</td>\n",
       "      <td>30-39</td>\n",
       "      <td>Female</td>\n",
       "      <td>-6.397209</td>\n",
       "      <td>6.397209</td>\n",
       "    </tr>\n",
       "    <tr>\n",
       "      <th>63</th>\n",
       "      <td>Vegetarian</td>\n",
       "      <td>30-39</td>\n",
       "      <td>Male</td>\n",
       "      <td>-4.714324</td>\n",
       "      <td>4.714324</td>\n",
       "    </tr>\n",
       "    <tr>\n",
       "      <th>64</th>\n",
       "      <td>Vegetarian</td>\n",
       "      <td>40-49</td>\n",
       "      <td>Female</td>\n",
       "      <td>-6.226383</td>\n",
       "      <td>6.226383</td>\n",
       "    </tr>\n",
       "    <tr>\n",
       "      <th>65</th>\n",
       "      <td>Vegetarian</td>\n",
       "      <td>40-49</td>\n",
       "      <td>Male</td>\n",
       "      <td>-5.413704</td>\n",
       "      <td>5.413704</td>\n",
       "    </tr>\n",
       "    <tr>\n",
       "      <th>66</th>\n",
       "      <td>Vegetarian</td>\n",
       "      <td>50-59</td>\n",
       "      <td>Female</td>\n",
       "      <td>-6.001050</td>\n",
       "      <td>6.001050</td>\n",
       "    </tr>\n",
       "    <tr>\n",
       "      <th>67</th>\n",
       "      <td>Vegetarian</td>\n",
       "      <td>50-59</td>\n",
       "      <td>Male</td>\n",
       "      <td>-5.909985</td>\n",
       "      <td>5.909985</td>\n",
       "    </tr>\n",
       "    <tr>\n",
       "      <th>68</th>\n",
       "      <td>Vegetarian</td>\n",
       "      <td>60-69</td>\n",
       "      <td>Female</td>\n",
       "      <td>-5.450091</td>\n",
       "      <td>5.450091</td>\n",
       "    </tr>\n",
       "    <tr>\n",
       "      <th>69</th>\n",
       "      <td>Vegetarian</td>\n",
       "      <td>60-69</td>\n",
       "      <td>Male</td>\n",
       "      <td>-5.603939</td>\n",
       "      <td>5.603939</td>\n",
       "    </tr>\n",
       "    <tr>\n",
       "      <th>70</th>\n",
       "      <td>Vegetarian</td>\n",
       "      <td>70-79</td>\n",
       "      <td>Female</td>\n",
       "      <td>-5.192305</td>\n",
       "      <td>5.192305</td>\n",
       "    </tr>\n",
       "    <tr>\n",
       "      <th>71</th>\n",
       "      <td>Vegetarian</td>\n",
       "      <td>70-79</td>\n",
       "      <td>Male</td>\n",
       "      <td>-4.380728</td>\n",
       "      <td>4.380728</td>\n",
       "    </tr>\n",
       "  </tbody>\n",
       "</table>\n",
       "</div>"
      ],
      "text/plain": [
       "     diet_group age_group     sex  total_impact  total_impact_abs\n",
       "0          Fish     20-29  Female     -3.527796          3.527796\n",
       "1          Fish     20-29    Male     -0.271700          0.271700\n",
       "2          Fish     30-39  Female     -3.243166          3.243166\n",
       "3          Fish     30-39    Male     -1.595487          1.595487\n",
       "4          Fish     40-49  Female     -3.246464          3.246464\n",
       "5          Fish     40-49    Male     -2.383545          2.383545\n",
       "6          Fish     50-59  Female     -2.729887          2.729887\n",
       "7          Fish     50-59    Male     -2.412383          2.412383\n",
       "8          Fish     60-69  Female     -1.873912          1.873912\n",
       "9          Fish     60-69    Male     -2.016391          2.016391\n",
       "10         Fish     70-79  Female     -2.131654          2.131654\n",
       "11         Fish     70-79    Male     -0.801957          0.801957\n",
       "12  Medium Meat     20-29  Female      2.899634          2.899634\n",
       "13  Medium Meat     20-29    Male      4.821383          4.821383\n",
       "14  Medium Meat     30-39  Female      3.329869          3.329869\n",
       "15  Medium Meat     30-39    Male      5.394908          5.394908\n",
       "16  Medium Meat     40-49  Female      4.044638          4.044638\n",
       "17  Medium Meat     40-49    Male      4.874766          4.874766\n",
       "18  Medium Meat     50-59  Female      4.349408          4.349408\n",
       "19  Medium Meat     50-59    Male      4.769660          4.769660\n",
       "20  Medium Meat     60-69  Female      4.720606          4.720606\n",
       "21  Medium Meat     60-69    Male      5.109208          5.109208\n",
       "22  Medium Meat     70-79  Female      5.119887          5.119887\n",
       "23  Medium Meat     70-79    Male      5.680815          5.680815\n",
       "24    High Meat     20-29  Female     12.997599         12.997599\n",
       "25    High Meat     20-29    Male     19.605571         19.605571\n",
       "26    High Meat     30-39  Female     13.265341         13.265341\n",
       "27    High Meat     30-39    Male     16.102997         16.102997\n",
       "28    High Meat     40-49  Female     14.738421         14.738421\n",
       "29    High Meat     40-49    Male     15.559311         15.559311\n",
       "30    High Meat     50-59  Female     15.586643         15.586643\n",
       "31    High Meat     50-59    Male     15.997888         15.997888\n",
       "32    High Meat     60-69  Female     15.583598         15.583598\n",
       "33    High Meat     60-69    Male     15.762898         15.762898\n",
       "34    High Meat     70-79  Female     16.949981         16.949981\n",
       "35    High Meat     70-79    Male     17.853675         17.853675\n",
       "36     Low Meat     20-29  Female     -2.279516          2.279516\n",
       "37     Low Meat     20-29    Male     -0.951791          0.951791\n",
       "38     Low Meat     30-39  Female     -1.811943          1.811943\n",
       "39     Low Meat     30-39    Male      0.023278          0.023278\n",
       "40     Low Meat     40-49  Female     -1.584791          1.584791\n",
       "41     Low Meat     40-49    Male     -0.715166          0.715166\n",
       "42     Low Meat     50-59  Female     -0.915299          0.915299\n",
       "43     Low Meat     50-59    Male     -0.535971          0.535971\n",
       "44     Low Meat     60-69  Female     -0.362697          0.362697\n",
       "45     Low Meat     60-69    Male     -0.454079          0.454079\n",
       "46     Low Meat     70-79  Female     -0.355591          0.355591\n",
       "47     Low Meat     70-79    Male      0.557166          0.557166\n",
       "48        Vegan     20-29  Female    -13.496751         13.496751\n",
       "49        Vegan     20-29    Male    -11.040810         11.040810\n",
       "50        Vegan     30-39  Female    -12.811188         12.811188\n",
       "51        Vegan     30-39    Male    -11.899903         11.899903\n",
       "52        Vegan     40-49  Female    -11.774248         11.774248\n",
       "53        Vegan     40-49    Male    -12.000589         12.000589\n",
       "54        Vegan     50-59  Female    -12.270778         12.270778\n",
       "55        Vegan     50-59    Male    -12.679562         12.679562\n",
       "56        Vegan     60-69  Female    -11.717343         11.717343\n",
       "57        Vegan     60-69    Male    -11.338009         11.338009\n",
       "58        Vegan     70-79  Female    -10.579020         10.579020\n",
       "59        Vegan     70-79    Male    -11.575497         11.575497\n",
       "60   Vegetarian     20-29  Female     -6.698610          6.698610\n",
       "61   Vegetarian     20-29    Male     -4.325935          4.325935\n",
       "62   Vegetarian     30-39  Female     -6.397209          6.397209\n",
       "63   Vegetarian     30-39    Male     -4.714324          4.714324\n",
       "64   Vegetarian     40-49  Female     -6.226383          6.226383\n",
       "65   Vegetarian     40-49    Male     -5.413704          5.413704\n",
       "66   Vegetarian     50-59  Female     -6.001050          6.001050\n",
       "67   Vegetarian     50-59    Male     -5.909985          5.909985\n",
       "68   Vegetarian     60-69  Female     -5.450091          5.450091\n",
       "69   Vegetarian     60-69    Male     -5.603939          5.603939\n",
       "70   Vegetarian     70-79  Female     -5.192305          5.192305\n",
       "71   Vegetarian     70-79    Male     -4.380728          4.380728"
      ]
     },
     "execution_count": 123,
     "metadata": {},
     "output_type": "execute_result"
    }
   ],
   "source": [
    "treemap_df"
   ]
  },
  {
   "cell_type": "code",
   "execution_count": null,
   "metadata": {},
   "outputs": [
    {
     "data": {
      "application/vnd.plotly.v1+json": {
       "config": {
        "plotlyServerURL": "https://plot.ly"
       },
       "data": [
        {
         "branchvalues": "total",
         "customdata": {
          "bdata": "7R0U6ew4DMAlPYrZiGPRvx6Ade0A8gnA5g7x4R2H+b+JkWRDwvgJwPJ6iTSAEQPAhf1OCM/WBcCIjC9Aj0wDwGayLEWL+/2/kqeVWJEhAMBCFvxtoA0BwLqihZSiqem/at3GQnMyB0CMPBGlGEkTQK1MmVGSowpA2KqMrWKUFUBm8yl4tS0QQGIpNL/CfxNAl6kAN8tlEUBjjGywIRQTQNv+RZfm4RJAb3W2JtRvFEAFTSy+w3oUQN4gj6snuRZA5BaCScX+KUBsPkS5BpszQAyjUtDahypAh4c1+10aMEBSgZRTEnotQF8DMQteHi9AjJFtelwsL0CgXv8l6/4vQG8Mq0zNKi9ABfAVl5qGL0CsOmv2MfMwQAj7ZXiK2jFAcWEb6HI8AsC2u/+vEnXuv5mljCS4/fy/gNyctUzWlz8feP7FTVv5v7vQl8Sk4ua/ab1d3SFK7b9KaRYsrCbhv4xLYZ1sNte/f1A4FqMP3b+h+v2XAsLWv3Dpkn1O1OE/sUSKFlb+KsD+ZrkW5RQmwHviKxdUnynAzvPAFsDMJ8BR8iY7aownwNleQC9NACjAp5C7Z6OKKMCCye6T71spwAPnAJNHbyfAMKMZfw+tJsCNWapXdSglwKCGZIynJifAhApUfGDLGsAWpaXgwU0RwObfrhO+lhnAvUBgqXfbEsCm2Lj10OcYwDGfYSaipxXAX7pYKxMBGMAFK1kE06MXwEf6saDkzBXAJ2yIFm9qFsDIwB2668QUwHfCkKTdhRHArJzyvBBcCsBRGgIxUpkFwNDq1paQDAfANiLUNsKlBMB+vkjIBir/v7IQnEteSvy/Xh5PjA9mEEBNgo2eVW0SQFQuf71K/hFANFrE9eBGEkAsaB/5urATQGd6owbgqBVAAWkmvaL4MEA+4x84fKQtQPRdVMrpUS5AVD1WuwKXL0B/IHQo91gvQH/pBB3faTFAg01uIgM3/r8nMrbxXp78v75jF7a2B/W/IQIw+YLO6L+IEydLyXbav3+wT8Y0zck/dwpKKovIKMCc5jF+pL4owPby3+zoxifAcswFawD1KMBwZ/OPxA8nwC1pQMUHMybA4YwX9gMSF8DV7EN3mrsWwLqomHHGZBfAIkWCWc7SF8ARlsqDwhwWwM7+HuOeSBPAJeg+B/mvBMC8CQkMG+gSQDDV7xyDBTBAdBjpVBrD9L+bnA2nefYnwBhsrmDefxbAdABka514AkA=",
          "dtype": "f8",
          "shape": "115, 1"
         },
         "domain": {
          "x": [
           0,
           1
          ],
          "y": [
           0,
           1
          ]
         },
         "hovertemplate": "Group = %{label}<br>Total Impact = %{color}<extra></extra>",
         "ids": [
          "All Groups/Fish/20-29/Female",
          "All Groups/Fish/20-29/Male",
          "All Groups/Fish/30-39/Female",
          "All Groups/Fish/30-39/Male",
          "All Groups/Fish/40-49/Female",
          "All Groups/Fish/40-49/Male",
          "All Groups/Fish/50-59/Female",
          "All Groups/Fish/50-59/Male",
          "All Groups/Fish/60-69/Female",
          "All Groups/Fish/60-69/Male",
          "All Groups/Fish/70-79/Female",
          "All Groups/Fish/70-79/Male",
          "All Groups/Medium Meat/20-29/Female",
          "All Groups/Medium Meat/20-29/Male",
          "All Groups/Medium Meat/30-39/Female",
          "All Groups/Medium Meat/30-39/Male",
          "All Groups/Medium Meat/40-49/Female",
          "All Groups/Medium Meat/40-49/Male",
          "All Groups/Medium Meat/50-59/Female",
          "All Groups/Medium Meat/50-59/Male",
          "All Groups/Medium Meat/60-69/Female",
          "All Groups/Medium Meat/60-69/Male",
          "All Groups/Medium Meat/70-79/Female",
          "All Groups/Medium Meat/70-79/Male",
          "All Groups/High Meat/20-29/Female",
          "All Groups/High Meat/20-29/Male",
          "All Groups/High Meat/30-39/Female",
          "All Groups/High Meat/30-39/Male",
          "All Groups/High Meat/40-49/Female",
          "All Groups/High Meat/40-49/Male",
          "All Groups/High Meat/50-59/Female",
          "All Groups/High Meat/50-59/Male",
          "All Groups/High Meat/60-69/Female",
          "All Groups/High Meat/60-69/Male",
          "All Groups/High Meat/70-79/Female",
          "All Groups/High Meat/70-79/Male",
          "All Groups/Low Meat/20-29/Female",
          "All Groups/Low Meat/20-29/Male",
          "All Groups/Low Meat/30-39/Female",
          "All Groups/Low Meat/30-39/Male",
          "All Groups/Low Meat/40-49/Female",
          "All Groups/Low Meat/40-49/Male",
          "All Groups/Low Meat/50-59/Female",
          "All Groups/Low Meat/50-59/Male",
          "All Groups/Low Meat/60-69/Female",
          "All Groups/Low Meat/60-69/Male",
          "All Groups/Low Meat/70-79/Female",
          "All Groups/Low Meat/70-79/Male",
          "All Groups/Vegan/20-29/Female",
          "All Groups/Vegan/20-29/Male",
          "All Groups/Vegan/30-39/Female",
          "All Groups/Vegan/30-39/Male",
          "All Groups/Vegan/40-49/Female",
          "All Groups/Vegan/40-49/Male",
          "All Groups/Vegan/50-59/Female",
          "All Groups/Vegan/50-59/Male",
          "All Groups/Vegan/60-69/Female",
          "All Groups/Vegan/60-69/Male",
          "All Groups/Vegan/70-79/Female",
          "All Groups/Vegan/70-79/Male",
          "All Groups/Vegetarian/20-29/Female",
          "All Groups/Vegetarian/20-29/Male",
          "All Groups/Vegetarian/30-39/Female",
          "All Groups/Vegetarian/30-39/Male",
          "All Groups/Vegetarian/40-49/Female",
          "All Groups/Vegetarian/40-49/Male",
          "All Groups/Vegetarian/50-59/Female",
          "All Groups/Vegetarian/50-59/Male",
          "All Groups/Vegetarian/60-69/Female",
          "All Groups/Vegetarian/60-69/Male",
          "All Groups/Vegetarian/70-79/Female",
          "All Groups/Vegetarian/70-79/Male",
          "All Groups/Fish/20-29",
          "All Groups/Fish/30-39",
          "All Groups/Fish/40-49",
          "All Groups/Fish/50-59",
          "All Groups/Fish/60-69",
          "All Groups/Fish/70-79",
          "All Groups/Medium Meat/20-29",
          "All Groups/Medium Meat/30-39",
          "All Groups/Medium Meat/40-49",
          "All Groups/Medium Meat/50-59",
          "All Groups/Medium Meat/60-69",
          "All Groups/Medium Meat/70-79",
          "All Groups/High Meat/20-29",
          "All Groups/High Meat/30-39",
          "All Groups/High Meat/40-49",
          "All Groups/High Meat/50-59",
          "All Groups/High Meat/60-69",
          "All Groups/High Meat/70-79",
          "All Groups/Low Meat/20-29",
          "All Groups/Low Meat/30-39",
          "All Groups/Low Meat/40-49",
          "All Groups/Low Meat/50-59",
          "All Groups/Low Meat/60-69",
          "All Groups/Low Meat/70-79",
          "All Groups/Vegan/20-29",
          "All Groups/Vegan/30-39",
          "All Groups/Vegan/40-49",
          "All Groups/Vegan/50-59",
          "All Groups/Vegan/60-69",
          "All Groups/Vegan/70-79",
          "All Groups/Vegetarian/20-29",
          "All Groups/Vegetarian/30-39",
          "All Groups/Vegetarian/40-49",
          "All Groups/Vegetarian/50-59",
          "All Groups/Vegetarian/60-69",
          "All Groups/Vegetarian/70-79",
          "All Groups/Fish",
          "All Groups/Medium Meat",
          "All Groups/High Meat",
          "All Groups/Low Meat",
          "All Groups/Vegan",
          "All Groups/Vegetarian",
          "All Groups"
         ],
         "labels": [
          "Female",
          "Male",
          "Female",
          "Male",
          "Female",
          "Male",
          "Female",
          "Male",
          "Female",
          "Male",
          "Female",
          "Male",
          "Female",
          "Male",
          "Female",
          "Male",
          "Female",
          "Male",
          "Female",
          "Male",
          "Female",
          "Male",
          "Female",
          "Male",
          "Female",
          "Male",
          "Female",
          "Male",
          "Female",
          "Male",
          "Female",
          "Male",
          "Female",
          "Male",
          "Female",
          "Male",
          "Female",
          "Male",
          "Female",
          "Male",
          "Female",
          "Male",
          "Female",
          "Male",
          "Female",
          "Male",
          "Female",
          "Male",
          "Female",
          "Male",
          "Female",
          "Male",
          "Female",
          "Male",
          "Female",
          "Male",
          "Female",
          "Male",
          "Female",
          "Male",
          "Female",
          "Male",
          "Female",
          "Male",
          "Female",
          "Male",
          "Female",
          "Male",
          "Female",
          "Male",
          "Female",
          "Male",
          "20-29",
          "30-39",
          "40-49",
          "50-59",
          "60-69",
          "70-79",
          "20-29",
          "30-39",
          "40-49",
          "50-59",
          "60-69",
          "70-79",
          "20-29",
          "30-39",
          "40-49",
          "50-59",
          "60-69",
          "70-79",
          "20-29",
          "30-39",
          "40-49",
          "50-59",
          "60-69",
          "70-79",
          "20-29",
          "30-39",
          "40-49",
          "50-59",
          "60-69",
          "70-79",
          "20-29",
          "30-39",
          "40-49",
          "50-59",
          "60-69",
          "70-79",
          "Fish",
          "Medium Meat",
          "High Meat",
          "Low Meat",
          "Vegan",
          "Vegetarian",
          "All Groups"
         ],
         "marker": {
          "coloraxis": "coloraxis",
          "colors": {
           "bdata": "7R0U6ew4DMAlPYrZiGPRvx6Ade0A8gnA5g7x4R2H+b+JkWRDwvgJwPJ6iTSAEQPAhf1OCM/WBcCIjC9Aj0wDwGayLEWL+/2/kqeVWJEhAMBCFvxtoA0BwLqihZSiqem/at3GQnMyB0CMPBGlGEkTQK1MmVGSowpA2KqMrWKUFUBm8yl4tS0QQGIpNL/CfxNAl6kAN8tlEUBjjGywIRQTQNv+RZfm4RJAb3W2JtRvFEAFTSy+w3oUQN4gj6snuRZA5BaCScX+KUBsPkS5BpszQAyjUtDahypAh4c1+10aMEBSgZRTEnotQF8DMQteHi9AjJFtelwsL0CgXv8l6/4vQG8Mq0zNKi9ABfAVl5qGL0CsOmv2MfMwQAj7ZXiK2jFAcWEb6HI8AsC2u/+vEnXuv5mljCS4/fy/gNyctUzWlz8feP7FTVv5v7vQl8Sk4ua/ab1d3SFK7b9KaRYsrCbhv4xLYZ1sNte/f1A4FqMP3b+h+v2XAsLWv3Dpkn1O1OE/sUSKFlb+KsD+ZrkW5RQmwHviKxdUnynAzvPAFsDMJ8BR8iY7aownwNleQC9NACjAp5C7Z6OKKMCCye6T71spwAPnAJNHbyfAMKMZfw+tJsCNWapXdSglwKCGZIynJifAhApUfGDLGsAWpaXgwU0RwObfrhO+lhnAvUBgqXfbEsCm2Lj10OcYwDGfYSaipxXAX7pYKxMBGMAFK1kE06MXwEf6saDkzBXAJ2yIFm9qFsDIwB2668QUwHfCkKTdhRHArJzyvBBcCsBRGgIxUpkFwNDq1paQDAfANiLUNsKlBMB+vkjIBir/v7IQnEteSvy/Xh5PjA9mEEBNgo2eVW0SQFQuf71K/hFANFrE9eBGEkAsaB/5urATQGd6owbgqBVAAWkmvaL4MEA+4x84fKQtQPRdVMrpUS5AVD1WuwKXL0B/IHQo91gvQH/pBB3faTFAg01uIgM3/r8nMrbxXp78v75jF7a2B/W/IQIw+YLO6L+IEydLyXbav3+wT8Y0zck/dwpKKovIKMCc5jF+pL4owPby3+zoxifAcswFawD1KMBwZ/OPxA8nwC1pQMUHMybA4YwX9gMSF8DV7EN3mrsWwLqomHHGZBfAIkWCWc7SF8ARlsqDwhwWwM7+HuOeSBPAJeg+B/mvBMC8CQkMG+gSQDDV7xyDBTBAdBjpVBrD9L+bnA2nefYnwBhsrmDefxbAdABka514AkA=",
           "dtype": "f8"
          }
         },
         "name": "",
         "parents": [
          "All Groups/Fish/20-29",
          "All Groups/Fish/20-29",
          "All Groups/Fish/30-39",
          "All Groups/Fish/30-39",
          "All Groups/Fish/40-49",
          "All Groups/Fish/40-49",
          "All Groups/Fish/50-59",
          "All Groups/Fish/50-59",
          "All Groups/Fish/60-69",
          "All Groups/Fish/60-69",
          "All Groups/Fish/70-79",
          "All Groups/Fish/70-79",
          "All Groups/Medium Meat/20-29",
          "All Groups/Medium Meat/20-29",
          "All Groups/Medium Meat/30-39",
          "All Groups/Medium Meat/30-39",
          "All Groups/Medium Meat/40-49",
          "All Groups/Medium Meat/40-49",
          "All Groups/Medium Meat/50-59",
          "All Groups/Medium Meat/50-59",
          "All Groups/Medium Meat/60-69",
          "All Groups/Medium Meat/60-69",
          "All Groups/Medium Meat/70-79",
          "All Groups/Medium Meat/70-79",
          "All Groups/High Meat/20-29",
          "All Groups/High Meat/20-29",
          "All Groups/High Meat/30-39",
          "All Groups/High Meat/30-39",
          "All Groups/High Meat/40-49",
          "All Groups/High Meat/40-49",
          "All Groups/High Meat/50-59",
          "All Groups/High Meat/50-59",
          "All Groups/High Meat/60-69",
          "All Groups/High Meat/60-69",
          "All Groups/High Meat/70-79",
          "All Groups/High Meat/70-79",
          "All Groups/Low Meat/20-29",
          "All Groups/Low Meat/20-29",
          "All Groups/Low Meat/30-39",
          "All Groups/Low Meat/30-39",
          "All Groups/Low Meat/40-49",
          "All Groups/Low Meat/40-49",
          "All Groups/Low Meat/50-59",
          "All Groups/Low Meat/50-59",
          "All Groups/Low Meat/60-69",
          "All Groups/Low Meat/60-69",
          "All Groups/Low Meat/70-79",
          "All Groups/Low Meat/70-79",
          "All Groups/Vegan/20-29",
          "All Groups/Vegan/20-29",
          "All Groups/Vegan/30-39",
          "All Groups/Vegan/30-39",
          "All Groups/Vegan/40-49",
          "All Groups/Vegan/40-49",
          "All Groups/Vegan/50-59",
          "All Groups/Vegan/50-59",
          "All Groups/Vegan/60-69",
          "All Groups/Vegan/60-69",
          "All Groups/Vegan/70-79",
          "All Groups/Vegan/70-79",
          "All Groups/Vegetarian/20-29",
          "All Groups/Vegetarian/20-29",
          "All Groups/Vegetarian/30-39",
          "All Groups/Vegetarian/30-39",
          "All Groups/Vegetarian/40-49",
          "All Groups/Vegetarian/40-49",
          "All Groups/Vegetarian/50-59",
          "All Groups/Vegetarian/50-59",
          "All Groups/Vegetarian/60-69",
          "All Groups/Vegetarian/60-69",
          "All Groups/Vegetarian/70-79",
          "All Groups/Vegetarian/70-79",
          "All Groups/Fish",
          "All Groups/Fish",
          "All Groups/Fish",
          "All Groups/Fish",
          "All Groups/Fish",
          "All Groups/Fish",
          "All Groups/Medium Meat",
          "All Groups/Medium Meat",
          "All Groups/Medium Meat",
          "All Groups/Medium Meat",
          "All Groups/Medium Meat",
          "All Groups/Medium Meat",
          "All Groups/High Meat",
          "All Groups/High Meat",
          "All Groups/High Meat",
          "All Groups/High Meat",
          "All Groups/High Meat",
          "All Groups/High Meat",
          "All Groups/Low Meat",
          "All Groups/Low Meat",
          "All Groups/Low Meat",
          "All Groups/Low Meat",
          "All Groups/Low Meat",
          "All Groups/Low Meat",
          "All Groups/Vegan",
          "All Groups/Vegan",
          "All Groups/Vegan",
          "All Groups/Vegan",
          "All Groups/Vegan",
          "All Groups/Vegan",
          "All Groups/Vegetarian",
          "All Groups/Vegetarian",
          "All Groups/Vegetarian",
          "All Groups/Vegetarian",
          "All Groups/Vegetarian",
          "All Groups/Vegetarian",
          "All Groups",
          "All Groups",
          "All Groups",
          "All Groups",
          "All Groups",
          "All Groups",
          ""
         ],
         "type": "treemap",
         "values": {
          "bdata": "7R0U6ew4DEAlPYrZiGPRPx6Ade0A8glA5g7x4R2H+T+IkWRDwvgJQPJ6iTSAEQNAhf1OCM/WBUCIjC9Aj0wDQGayLEWL+/0/kqeVWJEhAEBCFvxtoA0BQLuihZSiqek/ad3GQnMyB0CMPBGlGEkTQK1MmVGSowpA2KqMrWKUFUBm8yl4tS0QQGIpNL/CfxNAl6kAN8tlEUBjjGywIRQTQNv+RZfm4RJAb3W2JtRvFEAFTSy+w3oUQN4gj6snuRZA5BaCScX+KUBsPkS5BpszQAyjUtDahypAh4c1+10aMEBSgZRTEnotQF8DMQteHi9AjJFtelwsL0CgXv8l6/4vQG8Mq0zNKi9ABfAVl5qGL0CsOmv2MfMwQAj7ZXiK2jFAcWEb6HI8AkC2u/+vEnXuP5mljCS4/fw/gNyctUzWlz8feP7FTVv5P7vQl8Sk4uY/ab1d3SFK7T9KaRYsrCbhP4tLYZ1sNtc/f1A4FqMP3T+g+v2XAsLWP3Dpkn1O1OE/sUSKFlb+KkD+ZrkW5RQmQHviKxdUnylAzvPAFsDMJ0BQ8iY7aownQNheQC9NAChAp5C7Z6OKKECCye6T71spQAPnAJNHbydAMKMZfw+tJkCNWapXdSglQKCGZIynJidAgwpUfGDLGkAWpaXgwU0RQObfrhO+lhlAvUBgqXfbEkCm2Lj10OcYQDGfYSaipxVAX7pYKxMBGEAFK1kE06MXQEf6saDkzBVAJ2yIFm9qFkDIwB2668QUQHfCkKTdhRFAkmVFBF5lDkDIAzfvx1oTQD0G9zshhRZABkU/JK+RFEDFACz7Vh8PQPF+HRMJeAdAQKt0RlLiHkCXqCzrFXMhQGQOrxu81iFA/Zq2c/Y8IkAlOv5e3agjQPK23bT1mSVA76QCrzRNQEAN2V5jS149QFjCYi84TD5AFng20KOVP0A6fuDxs1g/QNqaaDfeZkFAXlAblLfZCUALGWNXEV39Pz4wJRRQZgJAWhO6BGc49z8FzszZByPqP8DmkclPNe0/2NWhlp2JOEAka/YWCrY4QJSoM7VbxjdAFC3VfUnzOEAaRQ2JKw43QBZwB3KOJzZAzNd8LpEMJkBSkIfeGjkmQOw7DY65RydAsvLYF3PSJ0A3M53bqRsmQKBBV69kJSNAbDAt1v07OkAsJmossY5LQCniNSQgwGdAALHJbzYYJUB7uXbb4OVhQHLhu+cclFBAgqszcF+2fkA=",
          "dtype": "f8"
         }
        }
       ],
       "layout": {
        "coloraxis": {
         "colorbar": {
          "orientation": "h",
          "tickfont": {
           "size": 12
          },
          "title": {
           "font": {
            "size": 16
           },
           "side": "bottom",
           "text": "Difference From Mean Environmental Impact"
          },
          "x": 0.5,
          "xanchor": "center",
          "y": -0.3
         },
         "colorscale": [
          [
           0,
           "darkgreen"
          ],
          [
           0.5,
           "white"
          ],
          [
           1,
           "#bb0000"
          ]
         ]
        },
        "height": 685,
        "legend": {
         "tracegroupgap": 0
        },
        "margin": {
         "t": 60
        },
        "template": {
         "data": {
          "bar": [
           {
            "error_x": {
             "color": "#2a3f5f"
            },
            "error_y": {
             "color": "#2a3f5f"
            },
            "marker": {
             "line": {
              "color": "#E5ECF6",
              "width": 0.5
             },
             "pattern": {
              "fillmode": "overlay",
              "size": 10,
              "solidity": 0.2
             }
            },
            "type": "bar"
           }
          ],
          "barpolar": [
           {
            "marker": {
             "line": {
              "color": "#E5ECF6",
              "width": 0.5
             },
             "pattern": {
              "fillmode": "overlay",
              "size": 10,
              "solidity": 0.2
             }
            },
            "type": "barpolar"
           }
          ],
          "carpet": [
           {
            "aaxis": {
             "endlinecolor": "#2a3f5f",
             "gridcolor": "white",
             "linecolor": "white",
             "minorgridcolor": "white",
             "startlinecolor": "#2a3f5f"
            },
            "baxis": {
             "endlinecolor": "#2a3f5f",
             "gridcolor": "white",
             "linecolor": "white",
             "minorgridcolor": "white",
             "startlinecolor": "#2a3f5f"
            },
            "type": "carpet"
           }
          ],
          "choropleth": [
           {
            "colorbar": {
             "outlinewidth": 0,
             "ticks": ""
            },
            "type": "choropleth"
           }
          ],
          "contour": [
           {
            "colorbar": {
             "outlinewidth": 0,
             "ticks": ""
            },
            "colorscale": [
             [
              0,
              "#0d0887"
             ],
             [
              0.1111111111111111,
              "#46039f"
             ],
             [
              0.2222222222222222,
              "#7201a8"
             ],
             [
              0.3333333333333333,
              "#9c179e"
             ],
             [
              0.4444444444444444,
              "#bd3786"
             ],
             [
              0.5555555555555556,
              "#d8576b"
             ],
             [
              0.6666666666666666,
              "#ed7953"
             ],
             [
              0.7777777777777778,
              "#fb9f3a"
             ],
             [
              0.8888888888888888,
              "#fdca26"
             ],
             [
              1,
              "#f0f921"
             ]
            ],
            "type": "contour"
           }
          ],
          "contourcarpet": [
           {
            "colorbar": {
             "outlinewidth": 0,
             "ticks": ""
            },
            "type": "contourcarpet"
           }
          ],
          "heatmap": [
           {
            "colorbar": {
             "outlinewidth": 0,
             "ticks": ""
            },
            "colorscale": [
             [
              0,
              "#0d0887"
             ],
             [
              0.1111111111111111,
              "#46039f"
             ],
             [
              0.2222222222222222,
              "#7201a8"
             ],
             [
              0.3333333333333333,
              "#9c179e"
             ],
             [
              0.4444444444444444,
              "#bd3786"
             ],
             [
              0.5555555555555556,
              "#d8576b"
             ],
             [
              0.6666666666666666,
              "#ed7953"
             ],
             [
              0.7777777777777778,
              "#fb9f3a"
             ],
             [
              0.8888888888888888,
              "#fdca26"
             ],
             [
              1,
              "#f0f921"
             ]
            ],
            "type": "heatmap"
           }
          ],
          "histogram": [
           {
            "marker": {
             "pattern": {
              "fillmode": "overlay",
              "size": 10,
              "solidity": 0.2
             }
            },
            "type": "histogram"
           }
          ],
          "histogram2d": [
           {
            "colorbar": {
             "outlinewidth": 0,
             "ticks": ""
            },
            "colorscale": [
             [
              0,
              "#0d0887"
             ],
             [
              0.1111111111111111,
              "#46039f"
             ],
             [
              0.2222222222222222,
              "#7201a8"
             ],
             [
              0.3333333333333333,
              "#9c179e"
             ],
             [
              0.4444444444444444,
              "#bd3786"
             ],
             [
              0.5555555555555556,
              "#d8576b"
             ],
             [
              0.6666666666666666,
              "#ed7953"
             ],
             [
              0.7777777777777778,
              "#fb9f3a"
             ],
             [
              0.8888888888888888,
              "#fdca26"
             ],
             [
              1,
              "#f0f921"
             ]
            ],
            "type": "histogram2d"
           }
          ],
          "histogram2dcontour": [
           {
            "colorbar": {
             "outlinewidth": 0,
             "ticks": ""
            },
            "colorscale": [
             [
              0,
              "#0d0887"
             ],
             [
              0.1111111111111111,
              "#46039f"
             ],
             [
              0.2222222222222222,
              "#7201a8"
             ],
             [
              0.3333333333333333,
              "#9c179e"
             ],
             [
              0.4444444444444444,
              "#bd3786"
             ],
             [
              0.5555555555555556,
              "#d8576b"
             ],
             [
              0.6666666666666666,
              "#ed7953"
             ],
             [
              0.7777777777777778,
              "#fb9f3a"
             ],
             [
              0.8888888888888888,
              "#fdca26"
             ],
             [
              1,
              "#f0f921"
             ]
            ],
            "type": "histogram2dcontour"
           }
          ],
          "mesh3d": [
           {
            "colorbar": {
             "outlinewidth": 0,
             "ticks": ""
            },
            "type": "mesh3d"
           }
          ],
          "parcoords": [
           {
            "line": {
             "colorbar": {
              "outlinewidth": 0,
              "ticks": ""
             }
            },
            "type": "parcoords"
           }
          ],
          "pie": [
           {
            "automargin": true,
            "type": "pie"
           }
          ],
          "scatter": [
           {
            "fillpattern": {
             "fillmode": "overlay",
             "size": 10,
             "solidity": 0.2
            },
            "type": "scatter"
           }
          ],
          "scatter3d": [
           {
            "line": {
             "colorbar": {
              "outlinewidth": 0,
              "ticks": ""
             }
            },
            "marker": {
             "colorbar": {
              "outlinewidth": 0,
              "ticks": ""
             }
            },
            "type": "scatter3d"
           }
          ],
          "scattercarpet": [
           {
            "marker": {
             "colorbar": {
              "outlinewidth": 0,
              "ticks": ""
             }
            },
            "type": "scattercarpet"
           }
          ],
          "scattergeo": [
           {
            "marker": {
             "colorbar": {
              "outlinewidth": 0,
              "ticks": ""
             }
            },
            "type": "scattergeo"
           }
          ],
          "scattergl": [
           {
            "marker": {
             "colorbar": {
              "outlinewidth": 0,
              "ticks": ""
             }
            },
            "type": "scattergl"
           }
          ],
          "scattermap": [
           {
            "marker": {
             "colorbar": {
              "outlinewidth": 0,
              "ticks": ""
             }
            },
            "type": "scattermap"
           }
          ],
          "scattermapbox": [
           {
            "marker": {
             "colorbar": {
              "outlinewidth": 0,
              "ticks": ""
             }
            },
            "type": "scattermapbox"
           }
          ],
          "scatterpolar": [
           {
            "marker": {
             "colorbar": {
              "outlinewidth": 0,
              "ticks": ""
             }
            },
            "type": "scatterpolar"
           }
          ],
          "scatterpolargl": [
           {
            "marker": {
             "colorbar": {
              "outlinewidth": 0,
              "ticks": ""
             }
            },
            "type": "scatterpolargl"
           }
          ],
          "scatterternary": [
           {
            "marker": {
             "colorbar": {
              "outlinewidth": 0,
              "ticks": ""
             }
            },
            "type": "scatterternary"
           }
          ],
          "surface": [
           {
            "colorbar": {
             "outlinewidth": 0,
             "ticks": ""
            },
            "colorscale": [
             [
              0,
              "#0d0887"
             ],
             [
              0.1111111111111111,
              "#46039f"
             ],
             [
              0.2222222222222222,
              "#7201a8"
             ],
             [
              0.3333333333333333,
              "#9c179e"
             ],
             [
              0.4444444444444444,
              "#bd3786"
             ],
             [
              0.5555555555555556,
              "#d8576b"
             ],
             [
              0.6666666666666666,
              "#ed7953"
             ],
             [
              0.7777777777777778,
              "#fb9f3a"
             ],
             [
              0.8888888888888888,
              "#fdca26"
             ],
             [
              1,
              "#f0f921"
             ]
            ],
            "type": "surface"
           }
          ],
          "table": [
           {
            "cells": {
             "fill": {
              "color": "#EBF0F8"
             },
             "line": {
              "color": "white"
             }
            },
            "header": {
             "fill": {
              "color": "#C8D4E3"
             },
             "line": {
              "color": "white"
             }
            },
            "type": "table"
           }
          ]
         },
         "layout": {
          "annotationdefaults": {
           "arrowcolor": "#2a3f5f",
           "arrowhead": 0,
           "arrowwidth": 1
          },
          "autotypenumbers": "strict",
          "coloraxis": {
           "colorbar": {
            "outlinewidth": 0,
            "ticks": ""
           }
          },
          "colorscale": {
           "diverging": [
            [
             0,
             "#8e0152"
            ],
            [
             0.1,
             "#c51b7d"
            ],
            [
             0.2,
             "#de77ae"
            ],
            [
             0.3,
             "#f1b6da"
            ],
            [
             0.4,
             "#fde0ef"
            ],
            [
             0.5,
             "#f7f7f7"
            ],
            [
             0.6,
             "#e6f5d0"
            ],
            [
             0.7,
             "#b8e186"
            ],
            [
             0.8,
             "#7fbc41"
            ],
            [
             0.9,
             "#4d9221"
            ],
            [
             1,
             "#276419"
            ]
           ],
           "sequential": [
            [
             0,
             "#0d0887"
            ],
            [
             0.1111111111111111,
             "#46039f"
            ],
            [
             0.2222222222222222,
             "#7201a8"
            ],
            [
             0.3333333333333333,
             "#9c179e"
            ],
            [
             0.4444444444444444,
             "#bd3786"
            ],
            [
             0.5555555555555556,
             "#d8576b"
            ],
            [
             0.6666666666666666,
             "#ed7953"
            ],
            [
             0.7777777777777778,
             "#fb9f3a"
            ],
            [
             0.8888888888888888,
             "#fdca26"
            ],
            [
             1,
             "#f0f921"
            ]
           ],
           "sequentialminus": [
            [
             0,
             "#0d0887"
            ],
            [
             0.1111111111111111,
             "#46039f"
            ],
            [
             0.2222222222222222,
             "#7201a8"
            ],
            [
             0.3333333333333333,
             "#9c179e"
            ],
            [
             0.4444444444444444,
             "#bd3786"
            ],
            [
             0.5555555555555556,
             "#d8576b"
            ],
            [
             0.6666666666666666,
             "#ed7953"
            ],
            [
             0.7777777777777778,
             "#fb9f3a"
            ],
            [
             0.8888888888888888,
             "#fdca26"
            ],
            [
             1,
             "#f0f921"
            ]
           ]
          },
          "colorway": [
           "#636efa",
           "#EF553B",
           "#00cc96",
           "#ab63fa",
           "#FFA15A",
           "#19d3f3",
           "#FF6692",
           "#B6E880",
           "#FF97FF",
           "#FECB52"
          ],
          "font": {
           "color": "#2a3f5f"
          },
          "geo": {
           "bgcolor": "white",
           "lakecolor": "white",
           "landcolor": "#E5ECF6",
           "showlakes": true,
           "showland": true,
           "subunitcolor": "white"
          },
          "hoverlabel": {
           "align": "left"
          },
          "hovermode": "closest",
          "mapbox": {
           "style": "light"
          },
          "paper_bgcolor": "white",
          "plot_bgcolor": "#E5ECF6",
          "polar": {
           "angularaxis": {
            "gridcolor": "white",
            "linecolor": "white",
            "ticks": ""
           },
           "bgcolor": "#E5ECF6",
           "radialaxis": {
            "gridcolor": "white",
            "linecolor": "white",
            "ticks": ""
           }
          },
          "scene": {
           "xaxis": {
            "backgroundcolor": "#E5ECF6",
            "gridcolor": "white",
            "gridwidth": 2,
            "linecolor": "white",
            "showbackground": true,
            "ticks": "",
            "zerolinecolor": "white"
           },
           "yaxis": {
            "backgroundcolor": "#E5ECF6",
            "gridcolor": "white",
            "gridwidth": 2,
            "linecolor": "white",
            "showbackground": true,
            "ticks": "",
            "zerolinecolor": "white"
           },
           "zaxis": {
            "backgroundcolor": "#E5ECF6",
            "gridcolor": "white",
            "gridwidth": 2,
            "linecolor": "white",
            "showbackground": true,
            "ticks": "",
            "zerolinecolor": "white"
           }
          },
          "shapedefaults": {
           "line": {
            "color": "#2a3f5f"
           }
          },
          "ternary": {
           "aaxis": {
            "gridcolor": "white",
            "linecolor": "white",
            "ticks": ""
           },
           "baxis": {
            "gridcolor": "white",
            "linecolor": "white",
            "ticks": ""
           },
           "bgcolor": "#E5ECF6",
           "caxis": {
            "gridcolor": "white",
            "linecolor": "white",
            "ticks": ""
           }
          },
          "title": {
           "x": 0.05
          },
          "xaxis": {
           "automargin": true,
           "gridcolor": "white",
           "linecolor": "white",
           "ticks": "",
           "title": {
            "standoff": 15
           },
           "zerolinecolor": "white",
           "zerolinewidth": 2
          },
          "yaxis": {
           "automargin": true,
           "gridcolor": "white",
           "linecolor": "white",
           "ticks": "",
           "title": {
            "standoff": 15
           },
           "zerolinecolor": "white",
           "zerolinewidth": 2
          }
         }
        },
        "title": {
         "font": {
          "size": 24
         },
         "text": "Environmental Impact by Diet Group"
        },
        "width": 1500
       }
      }
     },
     "metadata": {},
     "output_type": "display_data"
    }
   ],
   "source": [
    "# creates the treemap\n",
    "# hierarchy: diet group -> age group -> sex\n",
    "# area: total impact (absolute value), larger rectangles mean more difference (positive or negative) from mean\n",
    "# colour: total impact, dark green less impact than mean, dark red more impact than mean\n",
    "fig = px.treemap(data_frame=treemap_df, path=[px.Constant('All Groups'), 'diet_group', 'age_group', 'sex'], values='total_impact_abs', color='total_impact',\n",
    "           color_continuous_scale=['darkgreen', 'white', '#bb0000']\n",
    ")\n",
    "\n",
    "fig.update_layout(\n",
    "    title=\"Environmental Impact by Diet Group\",\n",
    "    title_font_size=24,\n",
    "    coloraxis_colorbar=dict(  # styling for the legend scale bar\n",
    "        title=\"Difference From Mean Environmental Impact\",\n",
    "        title_font_size=16,\n",
    "        tickfont_size=12,\n",
    "        orientation=\"h\",\n",
    "        xanchor=\"center\", \n",
    "        x=0.5,\n",
    "        y=-0.3,\n",
    "        title_side=\"bottom\"\n",
    "    ),\n",
    "    width=1500,\n",
    "    height=685 \n",
    ")\n",
    "\n",
    "# show group and total impact on hovering over rectangles (groupings)\n",
    "fig.update_traces(hovertemplate='Group = %{label}<br>Total Impact = %{color}<extra></extra>')\n",
    "\n",
    "fig.show()\n",
    "\n",
    "fig.write_html(\"treemap_total_impact.html\")"
   ]
  },
  {
   "cell_type": "code",
   "execution_count": null,
   "metadata": {},
   "outputs": [
    {
     "ename": "FileNotFoundError",
     "evalue": "[Errno 2] No such file or directory: 'Results_21Mar2022.csv'",
     "output_type": "error",
     "traceback": [
      "\u001b[1;31m---------------------------------------------------------------------------\u001b[0m",
      "\u001b[1;31mFileNotFoundError\u001b[0m                         Traceback (most recent call last)",
      "Cell \u001b[1;32mIn[1], line 5\u001b[0m\n\u001b[0;32m      2\u001b[0m \u001b[38;5;28;01mimport\u001b[39;00m \u001b[38;5;21;01mplotly\u001b[39;00m\u001b[38;5;21;01m.\u001b[39;00m\u001b[38;5;21;01mexpress\u001b[39;00m \u001b[38;5;28;01mas\u001b[39;00m \u001b[38;5;21;01mpx\u001b[39;00m\n\u001b[0;32m      4\u001b[0m \u001b[38;5;66;03m# Load data\u001b[39;00m\n\u001b[1;32m----> 5\u001b[0m df \u001b[38;5;241m=\u001b[39m \u001b[43mpd\u001b[49m\u001b[38;5;241;43m.\u001b[39;49m\u001b[43mread_csv\u001b[49m\u001b[43m(\u001b[49m\u001b[38;5;124;43m'\u001b[39;49m\u001b[38;5;124;43mResults_21Mar2022.csv\u001b[39;49m\u001b[38;5;124;43m'\u001b[39;49m\u001b[43m)\u001b[49m\n\u001b[0;32m      7\u001b[0m \u001b[38;5;66;03m# Aggregate the measures by taking the mean\u001b[39;00m\n\u001b[0;32m      8\u001b[0m agg_df \u001b[38;5;241m=\u001b[39m df\u001b[38;5;241m.\u001b[39mgroupby([\u001b[38;5;124m'\u001b[39m\u001b[38;5;124mdiet_group\u001b[39m\u001b[38;5;124m'\u001b[39m, \u001b[38;5;124m'\u001b[39m\u001b[38;5;124mage_group\u001b[39m\u001b[38;5;124m'\u001b[39m, \u001b[38;5;124m'\u001b[39m\u001b[38;5;124msex\u001b[39m\u001b[38;5;124m'\u001b[39m])\u001b[38;5;241m.\u001b[39magg(\n\u001b[0;32m      9\u001b[0m     {\n\u001b[0;32m     10\u001b[0m         \u001b[38;5;124m'\u001b[39m\u001b[38;5;124mmean_ghgs\u001b[39m\u001b[38;5;124m'\u001b[39m: [\u001b[38;5;124m'\u001b[39m\u001b[38;5;124mmean\u001b[39m\u001b[38;5;124m'\u001b[39m], \n\u001b[1;32m   (...)\u001b[0m\n\u001b[0;32m     19\u001b[0m     }\n\u001b[0;32m     20\u001b[0m )\n",
      "File \u001b[1;32m~\\AppData\\Local\\Packages\\PythonSoftwareFoundation.Python.3.11_qbz5n2kfra8p0\\LocalCache\\local-packages\\Python311\\site-packages\\pandas\\io\\parsers\\readers.py:1026\u001b[0m, in \u001b[0;36mread_csv\u001b[1;34m(filepath_or_buffer, sep, delimiter, header, names, index_col, usecols, dtype, engine, converters, true_values, false_values, skipinitialspace, skiprows, skipfooter, nrows, na_values, keep_default_na, na_filter, verbose, skip_blank_lines, parse_dates, infer_datetime_format, keep_date_col, date_parser, date_format, dayfirst, cache_dates, iterator, chunksize, compression, thousands, decimal, lineterminator, quotechar, quoting, doublequote, escapechar, comment, encoding, encoding_errors, dialect, on_bad_lines, delim_whitespace, low_memory, memory_map, float_precision, storage_options, dtype_backend)\u001b[0m\n\u001b[0;32m   1013\u001b[0m kwds_defaults \u001b[38;5;241m=\u001b[39m _refine_defaults_read(\n\u001b[0;32m   1014\u001b[0m     dialect,\n\u001b[0;32m   1015\u001b[0m     delimiter,\n\u001b[1;32m   (...)\u001b[0m\n\u001b[0;32m   1022\u001b[0m     dtype_backend\u001b[38;5;241m=\u001b[39mdtype_backend,\n\u001b[0;32m   1023\u001b[0m )\n\u001b[0;32m   1024\u001b[0m kwds\u001b[38;5;241m.\u001b[39mupdate(kwds_defaults)\n\u001b[1;32m-> 1026\u001b[0m \u001b[38;5;28;01mreturn\u001b[39;00m \u001b[43m_read\u001b[49m\u001b[43m(\u001b[49m\u001b[43mfilepath_or_buffer\u001b[49m\u001b[43m,\u001b[49m\u001b[43m \u001b[49m\u001b[43mkwds\u001b[49m\u001b[43m)\u001b[49m\n",
      "File \u001b[1;32m~\\AppData\\Local\\Packages\\PythonSoftwareFoundation.Python.3.11_qbz5n2kfra8p0\\LocalCache\\local-packages\\Python311\\site-packages\\pandas\\io\\parsers\\readers.py:620\u001b[0m, in \u001b[0;36m_read\u001b[1;34m(filepath_or_buffer, kwds)\u001b[0m\n\u001b[0;32m    617\u001b[0m _validate_names(kwds\u001b[38;5;241m.\u001b[39mget(\u001b[38;5;124m\"\u001b[39m\u001b[38;5;124mnames\u001b[39m\u001b[38;5;124m\"\u001b[39m, \u001b[38;5;28;01mNone\u001b[39;00m))\n\u001b[0;32m    619\u001b[0m \u001b[38;5;66;03m# Create the parser.\u001b[39;00m\n\u001b[1;32m--> 620\u001b[0m parser \u001b[38;5;241m=\u001b[39m \u001b[43mTextFileReader\u001b[49m\u001b[43m(\u001b[49m\u001b[43mfilepath_or_buffer\u001b[49m\u001b[43m,\u001b[49m\u001b[43m \u001b[49m\u001b[38;5;241;43m*\u001b[39;49m\u001b[38;5;241;43m*\u001b[39;49m\u001b[43mkwds\u001b[49m\u001b[43m)\u001b[49m\n\u001b[0;32m    622\u001b[0m \u001b[38;5;28;01mif\u001b[39;00m chunksize \u001b[38;5;129;01mor\u001b[39;00m iterator:\n\u001b[0;32m    623\u001b[0m     \u001b[38;5;28;01mreturn\u001b[39;00m parser\n",
      "File \u001b[1;32m~\\AppData\\Local\\Packages\\PythonSoftwareFoundation.Python.3.11_qbz5n2kfra8p0\\LocalCache\\local-packages\\Python311\\site-packages\\pandas\\io\\parsers\\readers.py:1620\u001b[0m, in \u001b[0;36mTextFileReader.__init__\u001b[1;34m(self, f, engine, **kwds)\u001b[0m\n\u001b[0;32m   1617\u001b[0m     \u001b[38;5;28mself\u001b[39m\u001b[38;5;241m.\u001b[39moptions[\u001b[38;5;124m\"\u001b[39m\u001b[38;5;124mhas_index_names\u001b[39m\u001b[38;5;124m\"\u001b[39m] \u001b[38;5;241m=\u001b[39m kwds[\u001b[38;5;124m\"\u001b[39m\u001b[38;5;124mhas_index_names\u001b[39m\u001b[38;5;124m\"\u001b[39m]\n\u001b[0;32m   1619\u001b[0m \u001b[38;5;28mself\u001b[39m\u001b[38;5;241m.\u001b[39mhandles: IOHandles \u001b[38;5;241m|\u001b[39m \u001b[38;5;28;01mNone\u001b[39;00m \u001b[38;5;241m=\u001b[39m \u001b[38;5;28;01mNone\u001b[39;00m\n\u001b[1;32m-> 1620\u001b[0m \u001b[38;5;28mself\u001b[39m\u001b[38;5;241m.\u001b[39m_engine \u001b[38;5;241m=\u001b[39m \u001b[38;5;28;43mself\u001b[39;49m\u001b[38;5;241;43m.\u001b[39;49m\u001b[43m_make_engine\u001b[49m\u001b[43m(\u001b[49m\u001b[43mf\u001b[49m\u001b[43m,\u001b[49m\u001b[43m \u001b[49m\u001b[38;5;28;43mself\u001b[39;49m\u001b[38;5;241;43m.\u001b[39;49m\u001b[43mengine\u001b[49m\u001b[43m)\u001b[49m\n",
      "File \u001b[1;32m~\\AppData\\Local\\Packages\\PythonSoftwareFoundation.Python.3.11_qbz5n2kfra8p0\\LocalCache\\local-packages\\Python311\\site-packages\\pandas\\io\\parsers\\readers.py:1880\u001b[0m, in \u001b[0;36mTextFileReader._make_engine\u001b[1;34m(self, f, engine)\u001b[0m\n\u001b[0;32m   1878\u001b[0m     \u001b[38;5;28;01mif\u001b[39;00m \u001b[38;5;124m\"\u001b[39m\u001b[38;5;124mb\u001b[39m\u001b[38;5;124m\"\u001b[39m \u001b[38;5;129;01mnot\u001b[39;00m \u001b[38;5;129;01min\u001b[39;00m mode:\n\u001b[0;32m   1879\u001b[0m         mode \u001b[38;5;241m+\u001b[39m\u001b[38;5;241m=\u001b[39m \u001b[38;5;124m\"\u001b[39m\u001b[38;5;124mb\u001b[39m\u001b[38;5;124m\"\u001b[39m\n\u001b[1;32m-> 1880\u001b[0m \u001b[38;5;28mself\u001b[39m\u001b[38;5;241m.\u001b[39mhandles \u001b[38;5;241m=\u001b[39m \u001b[43mget_handle\u001b[49m\u001b[43m(\u001b[49m\n\u001b[0;32m   1881\u001b[0m \u001b[43m    \u001b[49m\u001b[43mf\u001b[49m\u001b[43m,\u001b[49m\n\u001b[0;32m   1882\u001b[0m \u001b[43m    \u001b[49m\u001b[43mmode\u001b[49m\u001b[43m,\u001b[49m\n\u001b[0;32m   1883\u001b[0m \u001b[43m    \u001b[49m\u001b[43mencoding\u001b[49m\u001b[38;5;241;43m=\u001b[39;49m\u001b[38;5;28;43mself\u001b[39;49m\u001b[38;5;241;43m.\u001b[39;49m\u001b[43moptions\u001b[49m\u001b[38;5;241;43m.\u001b[39;49m\u001b[43mget\u001b[49m\u001b[43m(\u001b[49m\u001b[38;5;124;43m\"\u001b[39;49m\u001b[38;5;124;43mencoding\u001b[39;49m\u001b[38;5;124;43m\"\u001b[39;49m\u001b[43m,\u001b[49m\u001b[43m \u001b[49m\u001b[38;5;28;43;01mNone\u001b[39;49;00m\u001b[43m)\u001b[49m\u001b[43m,\u001b[49m\n\u001b[0;32m   1884\u001b[0m \u001b[43m    \u001b[49m\u001b[43mcompression\u001b[49m\u001b[38;5;241;43m=\u001b[39;49m\u001b[38;5;28;43mself\u001b[39;49m\u001b[38;5;241;43m.\u001b[39;49m\u001b[43moptions\u001b[49m\u001b[38;5;241;43m.\u001b[39;49m\u001b[43mget\u001b[49m\u001b[43m(\u001b[49m\u001b[38;5;124;43m\"\u001b[39;49m\u001b[38;5;124;43mcompression\u001b[39;49m\u001b[38;5;124;43m\"\u001b[39;49m\u001b[43m,\u001b[49m\u001b[43m \u001b[49m\u001b[38;5;28;43;01mNone\u001b[39;49;00m\u001b[43m)\u001b[49m\u001b[43m,\u001b[49m\n\u001b[0;32m   1885\u001b[0m \u001b[43m    \u001b[49m\u001b[43mmemory_map\u001b[49m\u001b[38;5;241;43m=\u001b[39;49m\u001b[38;5;28;43mself\u001b[39;49m\u001b[38;5;241;43m.\u001b[39;49m\u001b[43moptions\u001b[49m\u001b[38;5;241;43m.\u001b[39;49m\u001b[43mget\u001b[49m\u001b[43m(\u001b[49m\u001b[38;5;124;43m\"\u001b[39;49m\u001b[38;5;124;43mmemory_map\u001b[39;49m\u001b[38;5;124;43m\"\u001b[39;49m\u001b[43m,\u001b[49m\u001b[43m \u001b[49m\u001b[38;5;28;43;01mFalse\u001b[39;49;00m\u001b[43m)\u001b[49m\u001b[43m,\u001b[49m\n\u001b[0;32m   1886\u001b[0m \u001b[43m    \u001b[49m\u001b[43mis_text\u001b[49m\u001b[38;5;241;43m=\u001b[39;49m\u001b[43mis_text\u001b[49m\u001b[43m,\u001b[49m\n\u001b[0;32m   1887\u001b[0m \u001b[43m    \u001b[49m\u001b[43merrors\u001b[49m\u001b[38;5;241;43m=\u001b[39;49m\u001b[38;5;28;43mself\u001b[39;49m\u001b[38;5;241;43m.\u001b[39;49m\u001b[43moptions\u001b[49m\u001b[38;5;241;43m.\u001b[39;49m\u001b[43mget\u001b[49m\u001b[43m(\u001b[49m\u001b[38;5;124;43m\"\u001b[39;49m\u001b[38;5;124;43mencoding_errors\u001b[39;49m\u001b[38;5;124;43m\"\u001b[39;49m\u001b[43m,\u001b[49m\u001b[43m \u001b[49m\u001b[38;5;124;43m\"\u001b[39;49m\u001b[38;5;124;43mstrict\u001b[39;49m\u001b[38;5;124;43m\"\u001b[39;49m\u001b[43m)\u001b[49m\u001b[43m,\u001b[49m\n\u001b[0;32m   1888\u001b[0m \u001b[43m    \u001b[49m\u001b[43mstorage_options\u001b[49m\u001b[38;5;241;43m=\u001b[39;49m\u001b[38;5;28;43mself\u001b[39;49m\u001b[38;5;241;43m.\u001b[39;49m\u001b[43moptions\u001b[49m\u001b[38;5;241;43m.\u001b[39;49m\u001b[43mget\u001b[49m\u001b[43m(\u001b[49m\u001b[38;5;124;43m\"\u001b[39;49m\u001b[38;5;124;43mstorage_options\u001b[39;49m\u001b[38;5;124;43m\"\u001b[39;49m\u001b[43m,\u001b[49m\u001b[43m \u001b[49m\u001b[38;5;28;43;01mNone\u001b[39;49;00m\u001b[43m)\u001b[49m\u001b[43m,\u001b[49m\n\u001b[0;32m   1889\u001b[0m \u001b[43m\u001b[49m\u001b[43m)\u001b[49m\n\u001b[0;32m   1890\u001b[0m \u001b[38;5;28;01massert\u001b[39;00m \u001b[38;5;28mself\u001b[39m\u001b[38;5;241m.\u001b[39mhandles \u001b[38;5;129;01mis\u001b[39;00m \u001b[38;5;129;01mnot\u001b[39;00m \u001b[38;5;28;01mNone\u001b[39;00m\n\u001b[0;32m   1891\u001b[0m f \u001b[38;5;241m=\u001b[39m \u001b[38;5;28mself\u001b[39m\u001b[38;5;241m.\u001b[39mhandles\u001b[38;5;241m.\u001b[39mhandle\n",
      "File \u001b[1;32m~\\AppData\\Local\\Packages\\PythonSoftwareFoundation.Python.3.11_qbz5n2kfra8p0\\LocalCache\\local-packages\\Python311\\site-packages\\pandas\\io\\common.py:873\u001b[0m, in \u001b[0;36mget_handle\u001b[1;34m(path_or_buf, mode, encoding, compression, memory_map, is_text, errors, storage_options)\u001b[0m\n\u001b[0;32m    868\u001b[0m \u001b[38;5;28;01melif\u001b[39;00m \u001b[38;5;28misinstance\u001b[39m(handle, \u001b[38;5;28mstr\u001b[39m):\n\u001b[0;32m    869\u001b[0m     \u001b[38;5;66;03m# Check whether the filename is to be opened in binary mode.\u001b[39;00m\n\u001b[0;32m    870\u001b[0m     \u001b[38;5;66;03m# Binary mode does not support 'encoding' and 'newline'.\u001b[39;00m\n\u001b[0;32m    871\u001b[0m     \u001b[38;5;28;01mif\u001b[39;00m ioargs\u001b[38;5;241m.\u001b[39mencoding \u001b[38;5;129;01mand\u001b[39;00m \u001b[38;5;124m\"\u001b[39m\u001b[38;5;124mb\u001b[39m\u001b[38;5;124m\"\u001b[39m \u001b[38;5;129;01mnot\u001b[39;00m \u001b[38;5;129;01min\u001b[39;00m ioargs\u001b[38;5;241m.\u001b[39mmode:\n\u001b[0;32m    872\u001b[0m         \u001b[38;5;66;03m# Encoding\u001b[39;00m\n\u001b[1;32m--> 873\u001b[0m         handle \u001b[38;5;241m=\u001b[39m \u001b[38;5;28;43mopen\u001b[39;49m\u001b[43m(\u001b[49m\n\u001b[0;32m    874\u001b[0m \u001b[43m            \u001b[49m\u001b[43mhandle\u001b[49m\u001b[43m,\u001b[49m\n\u001b[0;32m    875\u001b[0m \u001b[43m            \u001b[49m\u001b[43mioargs\u001b[49m\u001b[38;5;241;43m.\u001b[39;49m\u001b[43mmode\u001b[49m\u001b[43m,\u001b[49m\n\u001b[0;32m    876\u001b[0m \u001b[43m            \u001b[49m\u001b[43mencoding\u001b[49m\u001b[38;5;241;43m=\u001b[39;49m\u001b[43mioargs\u001b[49m\u001b[38;5;241;43m.\u001b[39;49m\u001b[43mencoding\u001b[49m\u001b[43m,\u001b[49m\n\u001b[0;32m    877\u001b[0m \u001b[43m            \u001b[49m\u001b[43merrors\u001b[49m\u001b[38;5;241;43m=\u001b[39;49m\u001b[43merrors\u001b[49m\u001b[43m,\u001b[49m\n\u001b[0;32m    878\u001b[0m \u001b[43m            \u001b[49m\u001b[43mnewline\u001b[49m\u001b[38;5;241;43m=\u001b[39;49m\u001b[38;5;124;43m\"\u001b[39;49m\u001b[38;5;124;43m\"\u001b[39;49m\u001b[43m,\u001b[49m\n\u001b[0;32m    879\u001b[0m \u001b[43m        \u001b[49m\u001b[43m)\u001b[49m\n\u001b[0;32m    880\u001b[0m     \u001b[38;5;28;01melse\u001b[39;00m:\n\u001b[0;32m    881\u001b[0m         \u001b[38;5;66;03m# Binary mode\u001b[39;00m\n\u001b[0;32m    882\u001b[0m         handle \u001b[38;5;241m=\u001b[39m \u001b[38;5;28mopen\u001b[39m(handle, ioargs\u001b[38;5;241m.\u001b[39mmode)\n",
      "\u001b[1;31mFileNotFoundError\u001b[0m: [Errno 2] No such file or directory: 'Results_21Mar2022.csv'"
     ]
    }
   ],
   "source": [
    "import pandas as pd\n",
    "import plotly.express as px\n",
    "\n",
    "# Load data\n",
    "df = pd.read_csv('Results_21Mar2022.csv')\n",
    "\n",
    "# Aggregate the measures by taking the mean\n",
    "agg_df = df.groupby(['diet_group', 'age_group', 'sex']).agg(\n",
    "    {\n",
    "        'mean_ghgs': ['mean'], \n",
    "        'mean_land': ['mean'],\n",
    "        'mean_watscar': ['mean'],\n",
    "        'mean_eut': ['mean'],\n",
    "        'mean_ghgs_ch4': ['mean'],\n",
    "        'mean_ghgs_n2o': ['mean'],\n",
    "        'mean_bio': ['mean'],\n",
    "        'mean_watuse': ['mean'],\n",
    "        'mean_acid': ['mean']\n",
    "    }\n",
    ")\n",
    "measures = ['mean_ghgs', 'mean_land', 'mean_watscar', 'mean_eut', 'mean_ghgs_ch4', 'mean_ghgs_n2o', 'mean_bio', 'mean_watuse', 'mean_acid']\n",
    "\n",
    "# Calculate Z-scores for each measure\n",
    "for measure in measures:\n",
    "    agg_df[\"z_\" + measure] = (agg_df[measure] - agg_df[measure].mean()) / agg_df[measure].std()\n",
    "\n",
    "# Reshape the data into long format\n",
    "agg_df.reset_index(inplace=True)  # Reset index\n",
    "agg_df.columns = agg_df.columns.droplevel(1)  # Drop second level of MultiIndex\n",
    "long_df = agg_df.melt(\n",
    "    id_vars=['diet_group', 'age_group', 'sex'], \n",
    "    value_vars=[f\"z_{measure}\" for measure in measures], \n",
    "    var_name='measure', \n",
    "    value_name='z_score'\n",
    ")\n",
    "\n",
    "# Rename columns for better labels\n",
    "long_df['diet_group'] = long_df['diet_group'].replace({\n",
    "    'meat100': 'High Meat', \n",
    "    'meat': 'Medium Meat', \n",
    "    'meat50': 'Low Meat',\n",
    "    'vegan': 'Vegan',\n",
    "    'veggie': 'Vegetarian',\n",
    "    'fish': 'Fish'\n",
    "})\n",
    "long_df['sex'] = long_df['sex'].replace({'male': 'Male', 'female': 'Female'})\n",
    "long_df['measure'] = long_df['measure'].str.replace('z_', '').str.replace('_', ' ').str.title()\n",
    "\n",
    "long_df.loc[:, 'z_score_abs'] = long_df['z_score'].abs()\n",
    "\n",
    "# Create the treemap\n",
    "fig = px.treemap(\n",
    "    data_frame=long_df,\n",
    "    path=[px.Constant('All Groups'), 'diet_group', 'age_group', 'sex', 'measure'],  # Add 'measure' to the hierarchy\n",
    "    values='z_score_abs',  # Use Z-score as the value\n",
    "    color='z_score',  # Color by Z-score\n",
    "    color_continuous_scale=['darkgreen', 'white', '#bb0000']  # Custom color scale\n",
    ")\n",
    "\n",
    "# Update layout\n",
    "fig.update_layout(\n",
    "    title=\"Environmental Impact by Measure and Diet Group\",\n",
    "    title_font_size=24,\n",
    "    coloraxis_colorbar=dict(\n",
    "        title=\"Z-Score\",\n",
    "        title_font_size=16,\n",
    "        tickfont_size=12,\n",
    "        orientation=\"h\",\n",
    "        xanchor=\"center\", \n",
    "        x=0.5,\n",
    "        y=-0.05,\n",
    "        title_side=\"bottom\"\n",
    "    ),\n",
    "    width=2000,\n",
    "    height=2000\n",
    ")\n",
    "\n",
    "# Update hover template to show relevant information\n",
    "fig.update_traces(hovertemplate='Group = %{label}<br>Measure = %{parent}<br>Z-Score = %{color}<extra></extra>')\n",
    "\n",
    "# Show the plot\n",
    "fig.show()\n",
    "\n",
    "fig.write_html(\"treemap_individual_measures.html\")\n"
   ]
  }
 ],
 "metadata": {
  "kernelspec": {
   "display_name": "Python 3",
   "language": "python",
   "name": "python3"
  },
  "language_info": {
   "codemirror_mode": {
    "name": "ipython",
    "version": 3
   },
   "file_extension": ".py",
   "mimetype": "text/x-python",
   "name": "python",
   "nbconvert_exporter": "python",
   "pygments_lexer": "ipython3",
   "version": "3.11.9"
  }
 },
 "nbformat": 4,
 "nbformat_minor": 2
}
